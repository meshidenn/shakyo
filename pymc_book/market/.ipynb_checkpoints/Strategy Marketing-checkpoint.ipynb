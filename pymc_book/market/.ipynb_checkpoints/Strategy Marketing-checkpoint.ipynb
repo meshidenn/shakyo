{
 "cells": [
  {
   "cell_type": "code",
   "execution_count": 94,
   "metadata": {
    "collapsed": true
   },
   "outputs": [],
   "source": [
    "import numpy as np\n",
    "import scipy as sp\n",
    "import math\n",
    "from math import factorial as fact\n",
    "from math import gamma \n",
    "import pymc\n",
    "from matplotlib import pyplot as plt\n",
    "%matplotlib inline"
   ]
  },
  {
   "cell_type": "markdown",
   "metadata": {},
   "source": [
    "# 問題設定\n",
    "\n",
    "ある世帯パネルデータ。売り上げ実績58.9億円がわかっており、パネルデータによる売上高は41.2億円で実績の70%\n",
    "\n",
    "|ラベル| 項目 | 補正前 | 補正後（売り上げ差異を補正のため一部10/7倍)|\n",
    "|:---:|:---:|:---:|:---:|\n",
    "|(A)|平成20年の総世帯数(千)|49973|49973|\n",
    "|(B)|浸透率| 15.0% | 17.47% |\n",
    "|(C)|平均購入回数| 2.50 | 3.07 |\n",
    "|(D)|1回当たり平均購入個数 | 1.10| 1.10|\n",
    "|(E)|1個あたり平均購入単価 | 200円 | 200円 |\n",
    "|(F)|2回以上購入者比率| 50% |  "
   ]
  },
  {
   "cell_type": "code",
   "execution_count": 7,
   "metadata": {
    "collapsed": true
   },
   "outputs": [],
   "source": [
    "def f(x):\n",
    "    return (1+0.4125/x)**(-x) - 0.85"
   ]
  },
  {
   "cell_type": "code",
   "execution_count": 8,
   "metadata": {},
   "outputs": [
    {
     "data": {
      "text/plain": [
       "array([ 0.0989263])"
      ]
     },
     "execution_count": 8,
     "metadata": {},
     "output_type": "execute_result"
    }
   ],
   "source": [
    "sp.optimize.fsolve(f,1)"
   ]
  },
  {
   "cell_type": "code",
   "execution_count": 155,
   "metadata": {},
   "outputs": [],
   "source": [
    "M = 0.736\n",
    "K = 0.6016\n",
    "p = K/(M+K)\n",
    "q = M/(M+K)\n",
    "n = 1000\n",
    "result = np.random.negative_binomial(K,p,n)\n",
    "d_answer={0:0.62, 1:0.20, 2:0.1, 3:0.04, 4:0.02, 5:0.01, 6:0.01}\n",
    "answer = []\n",
    "for k,v in d_answer.items():\n",
    "    for i in range(int(v*n)):\n",
    "        answer.append(k)"
   ]
  },
  {
   "cell_type": "code",
   "execution_count": 197,
   "metadata": {},
   "outputs": [
    {
     "data": {
      "image/png": "[encoded data removed]",
      "text/plain": [
       "<matplotlib.figure.Figure at 0x1146dc7f0>"
      ]
     },
     "metadata": {},
     "output_type": "display_data"
    }
   ],
   "source": [
    "#plt.hist(sorted(list(result)), normed=True, alpha=0.8, rwidth=0.8, bins=np.arange(0,10,1),label='prediction')\n",
    "#plt.hist(answer, normed=True, alpha=0.8, rwidth=0.8, bins=np.arange(0,10,1), label='exact')\n",
    "plt.hist([answer,sorted(list(result))], normed=True, alpha=0.8, rwidth=0.8, bins=np.arange(0,10,1), label=['exact','predict'])\n",
    "plt.xlabel('buying frequency')\n",
    "plt.ylabel('probability')\n",
    "plt.legend(loc='upper right')\n",
    "plt.savefig('ndb_ex1.png')\n",
    "plt.show()"
   ]
  },
  {
   "cell_type": "code",
   "execution_count": 88,
   "metadata": {
    "collapsed": true
   },
   "outputs": [],
   "source": [
    "M = 1.46\n",
    "K = 0.78\n",
    "p = K/(M+K)\n",
    "q = M/(M+K)\n",
    "result2 = np.random.negative_binomial(K,p,5240)\n",
    "d_answer2={0:0.44, 1:0.19, 2:0.14, 3:0.09, 4:0.06, 5:0.03, 6:0.04}\n",
    "answer2 = []\n",
    "for k,v in d_answer2.items():\n",
    "    for i in range(int(v*n)):\n",
    "        answer2.append(k)"
   ]
  },
  {
   "cell_type": "code",
   "execution_count": 196,
   "metadata": {},
   "outputs": [
    {
     "data": {
      "image/png": "[encoded data removed]",
      "text/plain": [
       "<matplotlib.figure.Figure at 0x114c1ef98>"
      ]
     },
     "metadata": {},
     "output_type": "display_data"
    }
   ],
   "source": [
    "#plt.hist(sorted(list(result2)), normed=True, alpha=0.8, rwidth=0.8, bins=np.arange(0,10,1), label='prediction')\n",
    "#plt.hist(answer2, normed=True, alpha=0.8, rwidth=0.8, bins=np.arange(0,10,1), label='exact')\n",
    "plt.hist([answer2,sorted(list(result2))], normed=True, alpha=0.8, rwidth=0.8, bins=np.arange(0,10,1), label=['exact','predict'])\n",
    "plt.xlabel('buying frequency')\n",
    "plt.ylabel('probability')\n",
    "plt.legend(loc='upper right')\n",
    "plt.savefig('ndb_ex2.png')\n",
    "plt.show()"
   ]
  },
  {
   "cell_type": "code",
   "execution_count": 90,
   "metadata": {},
   "outputs": [],
   "source": [
    "M = 0.993\n",
    "K = 0.475\n",
    "p = K/(M+K)\n",
    "q = M/(M+K)\n",
    "result3 = np.random.negative_binomial(K,p,9480)\n",
    "d_answer3={0:0.58, 1:0.20, 2:0.09, 3:0.05, 4:0.03, 5:0.02, 6:0.03}\n",
    "answer3 = []\n",
    "for k,v in d_answer3.items():\n",
    "    for i in range(int(v*n)):\n",
    "        answer3.append(k)"
   ]
  },
  {
   "cell_type": "code",
   "execution_count": 195,
   "metadata": {},
   "outputs": [
    {
     "data": {
      "image/png": "[encoded data removed]",
      "text/plain": [
       "<matplotlib.figure.Figure at 0x11499c0f0>"
      ]
     },
     "metadata": {},
     "output_type": "display_data"
    }
   ],
   "source": [
    "#plt.hist(sorted(list(result3)), normed=True, alpha=0.8, rwidth=0.8, bins=np.arange(0,10,1), label='prediction')\n",
    "#plt.hist(answer3, normed=True, alpha=0.8, rwidth=0.8, bins=np.arange(0,10,1), label='exact')\n",
    "plt.hist([answer3,sorted(list(result3))], normed=True, alpha=0.8, rwidth=0.8, bins=np.arange(0,10,1), label=['exact','predict'])\n",
    "plt.xlabel('buying frequency')\n",
    "plt.ylabel('probability')\n",
    "plt.legend(loc='upper right')\n",
    "plt.savefig('ndb_ex3.png')\n",
    "plt.show()"
   ]
  },
  {
   "cell_type": "code",
   "execution_count": 143,
   "metadata": {},
   "outputs": [],
   "source": [
    "M = 1.46\n",
    "K = 0.78\n",
    "S = 1.2\n",
    "T = 1\n",
    "p = K/(M*T+K)\n",
    "q = M*T/(M*T+K)\n",
    "alphas = [0.25*S, 0.19*S, 0.1*S, 0.1*S, 0.09*S, 0.08*S, 0.03*S, 0.02*S]"
   ]
  },
  {
   "cell_type": "code",
   "execution_count": 144,
   "metadata": {
    "collapsed": true
   },
   "outputs": [],
   "source": [
    "def prR(ri,R,ai,S):\n",
    "    return fact(R)/(fact(ri)*fact(R-ri))*gamma(S)/(gamma(ai)*gamma(S-ai))*(gamma(ai+ri)*gamma(S-ai+R-ri))/gamma(S+R)"
   ]
  },
  {
   "cell_type": "code",
   "execution_count": 145,
   "metadata": {
    "collapsed": true
   },
   "outputs": [],
   "source": [
    "def NDB(p,q,R,K):\n",
    "    return gamma(K+R)/(fact(R)*gamma(K))*(p**K)*(q**R)\n"
   ]
  },
  {
   "cell_type": "code",
   "execution_count": 146,
   "metadata": {},
   "outputs": [],
   "source": [
    "all_com = []\n",
    "for alpha in alphas:\n",
    "    Rtmp=[]\n",
    "    for R in range(101):\n",
    "        rtmp=[]\n",
    "        for ri in range(R+1):\n",
    "            rtmp.append(prR(ri,R,alpha,S)*NDB(p,q,R,K))\n",
    "        Rtmp.append(rtmp)\n",
    "    all_com.append(Rtmp)\n",
    "        "
   ]
  },
  {
   "cell_type": "code",
   "execution_count": 147,
   "metadata": {},
   "outputs": [],
   "source": [
    "quater_prob = []\n",
    "quater_buy = []\n",
    "\n",
    "for com in all_com:\n",
    "    tmp_buy = 0\n",
    "    tmp_prob = 0\n",
    "    for R in com:\n",
    "        for i,r in enumerate(R):\n",
    "            tmp_buy += i*r\n",
    "            if i > 0:\n",
    "                tmp_prob += r\n",
    "                \n",
    "    tmp_buy = tmp_buy/tmp_prob               \n",
    "    quater_prob.append(tmp_prob)\n",
    "    quater_buy.append(tmp_buy)"
   ]
  },
  {
   "cell_type": "code",
   "execution_count": 148,
   "metadata": {},
   "outputs": [
    {
     "name": "stdout",
     "output_type": "stream",
     "text": [
      "[0.19812673437102113, 0.15520718609570258, 0.08555022867850974, 0.08555022867850974, 0.07739582034644872, 0.06915502611371932, 0.026620923870449304, 0.017841048626564177]\n",
      "[1.8422551664152522, 1.787288378702693, 1.706599763147963, 1.706599763147963, 1.6977660991486279, 1.6889589457739747, 1.6453223116204354, 1.6366750974784579]\n"
     ]
    }
   ],
   "source": [
    "print(quater_prob)\n",
    "print(quater_buy)"
   ]
  },
  {
   "cell_type": "code",
   "execution_count": 130,
   "metadata": {
    "collapsed": true
   },
   "outputs": [],
   "source": [
    "M = 1.46\n",
    "K = 0.78\n",
    "S = 1.2\n",
    "T = 4\n",
    "p = K/(M*T+K)\n",
    "q = M*T/(M*T+K)\n",
    "alphas = [0.25*S, 0.19*S, 0.1*S, 0.1*S, 0.09*S, 0.08*S, 0.03*S, 0.02*S]"
   ]
  },
  {
   "cell_type": "code",
   "execution_count": 140,
   "metadata": {
    "collapsed": true
   },
   "outputs": [],
   "source": [
    "all_com_year = []\n",
    "for alpha in alphas:\n",
    "    Rtmp=[]\n",
    "    for R in range(101):\n",
    "        rtmp=[]\n",
    "        for ri in range(R+1):\n",
    "            rtmp.append(prR(ri,R,alpha,S)*NDB(p,q,R,K))\n",
    "        Rtmp.append(rtmp)\n",
    "    all_com_year.append(Rtmp)\n",
    "        "
   ]
  },
  {
   "cell_type": "code",
   "execution_count": 141,
   "metadata": {
    "collapsed": true
   },
   "outputs": [],
   "source": [
    "year_prob = []\n",
    "year_buy = []\n",
    "\n",
    "for com in all_com_year:\n",
    "    tmp_buy = 0\n",
    "    tmp_prob = 0\n",
    "    for R in com:\n",
    "        for i,r in enumerate(R):\n",
    "            tmp_buy += i*r\n",
    "            if i > 0:\n",
    "                tmp_prob += r\n",
    "                \n",
    "    tmp_buy = tmp_buy/tmp_prob               \n",
    "    year_prob.append(tmp_prob)\n",
    "    year_buy.append(tmp_buy)"
   ]
  },
  {
   "cell_type": "code",
   "execution_count": 142,
   "metadata": {},
   "outputs": [
    {
     "name": "stdout",
     "output_type": "stream",
     "text": [
      "[0.37883919791193155, 0.3057503035417358, 0.1766479654383652, 0.1766479654383652, 0.1606762622081913, 0.14435111569793938, 0.05712986110142941, 0.03850489346072647]\n",
      "[3.853768900964433, 3.6290025353214945, 3.3059168629682514, 3.3059168629682514, 3.271081438872017, 3.2364612351108053, 3.066610752203172, 3.0332949153455715]\n"
     ]
    }
   ],
   "source": [
    "print(year_prob)\n",
    "print(year_buy)"
   ]
  },
  {
   "cell_type": "code",
   "execution_count": 149,
   "metadata": {
    "collapsed": true
   },
   "outputs": [],
   "source": [
    "import pandas as pd\n",
    "from pandas import Series, DataFrame"
   ]
  },
  {
   "cell_type": "code",
   "execution_count": 163,
   "metadata": {
    "collapsed": true
   },
   "outputs": [],
   "source": [
    "exact_quater_prob = [0.20, 0.17, 0.09, 0.08, 0.08, 0.07, 0.03, 0.02]\n",
    "exact_quater_buy = [1.8,1.7,1.6,1.9,1.7,1.7,1.4,1.5]\n",
    "exact_year_prob = [0.34, 0.32, 0.15, 0.17, 0.17, 0.17, 0.06, 0.03]\n",
    "exact_year_buy = [3.7, 3.2, 3.0, 3.4, 2.9, 2.8, 2.4, 3.2]"
   ]
  },
  {
   "cell_type": "code",
   "execution_count": 194,
   "metadata": {},
   "outputs": [
    {
     "data": {
      "image/png": "[encoded data removed]",
      "text/plain": [
       "<matplotlib.figure.Figure at 0x1146b3dd8>"
      ]
     },
     "metadata": {},
     "output_type": "display_data"
    }
   ],
   "source": [
    "df_quater_prob = DataFrame({'exact':exact_quater_prob,'predict':quater_prob},\\\n",
    "                           index=['colgate','macrine','closeup','signal','ultrabright','gipps','mine1','mine2'])\n",
    "df_quater_prob.plot(kind='bar', alpha=0.7)\n",
    "plt.xlabel('goods name')\n",
    "plt.ylabel('buying probability')\n",
    "plt.savefig('quater_prob.png')\n",
    "plt.show()"
   ]
  },
  {
   "cell_type": "code",
   "execution_count": 193,
   "metadata": {},
   "outputs": [
    {
     "data": {
      "image/png": "[encoded data removed]",
      "text/plain": [
       "<matplotlib.figure.Figure at 0x114730550>"
      ]
     },
     "metadata": {},
     "output_type": "display_data"
    }
   ],
   "source": [
    "df_quater_buy = DataFrame({'exact':exact_quater_buy,'predict':quater_buy},\\\n",
    "                           index=['colgate','macrine','closeup','signal','ultrabright','gipps','mine1','mine2'])\n",
    "df_quater_buy.plot(kind='bar', alpha=0.7)\n",
    "plt.xlabel('goods name')\n",
    "plt.ylabel('buying frequency')\n",
    "plt.savefig('quater_buy.png')\n",
    "plt.show()"
   ]
  },
  {
   "cell_type": "code",
   "execution_count": 192,
   "metadata": {},
   "outputs": [
    {
     "data": {
      "image/png": "[encoded data removed]",
      "text/plain": [
       "<matplotlib.figure.Figure at 0x1142d85f8>"
      ]
     },
     "metadata": {},
     "output_type": "display_data"
    }
   ],
   "source": [
    "df_year_prob = DataFrame({'exact':exact_year_prob,'predict':year_prob},\\\n",
    "                           index=['colgate','macrine','closeup','signal','ultrabright','gipps','mine1','mine2'])\n",
    "df_year_prob.plot(kind='bar', alpha=0.7)\n",
    "plt.xlabel('goods name')\n",
    "plt.ylabel('buying probability')\n",
    "plt.savefig('year_prob.png')\n",
    "plt.show()"
   ]
  },
  {
   "cell_type": "code",
   "execution_count": 191,
   "metadata": {},
   "outputs": [
    {
     "data": {
      "image/png": "[encoded data removed]",
      "text/plain": [
       "<matplotlib.figure.Figure at 0x1146d3160>"
      ]
     },
     "metadata": {},
     "output_type": "display_data"
    }
   ],
   "source": [
    "df_year_buy = DataFrame({'exact':exact_year_buy,'predict':year_buy},\\\n",
    "                           index=['colgate','macrine','closeup','signal','ultrabright','gipps','mine1','mine2'])\n",
    "df_year_buy.plot(kind='bar', alpha=0.7)\n",
    "plt.xlabel('goods name')\n",
    "plt.ylabel('buying frequency')\n",
    "plt.savefig('year_buy.png')\n",
    "plt.show()"
   ]
  },
  {
   "cell_type": "code",
   "execution_count": null,
   "metadata": {
    "collapsed": true
   },
   "outputs": [],
   "source": []
  }
 ],
 "metadata": {
  "kernelspec": {
   "display_name": "py3_personal",
   "language": "python",
   "name": "py3_personal"
  },
  "language_info": {
   "codemirror_mode": {
    "name": "ipython",
    "version": 3
   },
   "file_extension": ".py",
   "mimetype": "text/x-python",
   "name": "python",
   "nbconvert_exporter": "python",
   "pygments_lexer": "ipython3",
   "version": "3.5.2"
  }
 },
 "nbformat": 4,
 "nbformat_minor": 2
}
