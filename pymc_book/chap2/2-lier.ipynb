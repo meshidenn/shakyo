{
 "cells": [
  {
   "cell_type": "code",
   "execution_count": 1,
   "metadata": {
    "collapsed": true
   },
   "outputs": [],
   "source": [
    "import pymc as pm\n",
    "from IPython.core.pylabtools import figsize\n",
    "import matplotlib.pyplot as plt\n",
    "import numpy as np\n",
    "%matplotlib inline\n",
    "\n",
    "figsize(12,4)"
   ]
  },
  {
   "cell_type": "code",
   "execution_count": 4,
   "metadata": {
    "collapsed": false
   },
   "outputs": [
    {
     "data": {
      "text/plain": [
       "<matplotlib.text.Text at 0x110790390>"
      ]
     },
     "execution_count": 4,
     "metadata": {},
     "output_type": "execute_result"
    },
    {
     "data": {
      "image/png": "[encoded data removed]",
      "text/plain": [
       "<matplotlib.figure.Figure at 0x11069f908>"
      ]
     },
     "metadata": {},
     "output_type": "display_data"
    }
   ],
   "source": [
    "import scipy.stats as stats\n",
    "binomial = stats.binom\n",
    "\n",
    "parameters = [(10, .4), (10, .9)]\n",
    "colors = [\"#348ABD\", \"#A60628\"]\n",
    "\n",
    "for i in range(2):\n",
    "    N, p = parameters[i]\n",
    "    _x = np.arange(N+1)\n",
    "    plt.bar(_x -0.5, binomial.pmf(_x, N, p), color=colors[i],\n",
    "           edgecolor=colors[i], alpha=0.6, linewidth=3,\n",
    "           label=\"$N$:{}, $p$:{}\".format(N,p))\n",
    "    \n",
    "plt.legend(loc=\"upper left\")\n",
    "plt.xlim(0, 10.5)\n",
    "plt.xlabel(\"$k$\")\n",
    "plt.ylabel(\"$P(X = k)$\")\n",
    "plt.title(\"Probability mass distributions of binomial random variables\")"
   ]
  },
  {
   "cell_type": "code",
   "execution_count": 6,
   "metadata": {
    "collapsed": false
   },
   "outputs": [
    {
     "name": "stdout",
     "output_type": "stream",
     "text": [
      "[ True  True False  True False  True  True  True  True False  True False\n",
      "  True False  True  True False False False  True False  True False False\n",
      " False False  True False  True  True False  True False False  True False\n",
      "  True False  True False False False False  True False False False False\n",
      "  True False False  True  True False  True False False  True False False\n",
      "  True False  True False  True  True False  True False  True False  True\n",
      "  True  True False  True False False  True False False  True False  True\n",
      "  True  True  True  True False False  True False  True  True  True  True\n",
      " False False False  True]\n"
     ]
    }
   ],
   "source": [
    "import pymc as pm\n",
    "N = 100\n",
    "p = pm.Uniform(\"freq_cheating\", 0 ,1)\n",
    "true_answers = pm.Bernoulli(\"truths\", p, size=N)\n",
    "first_coin_flips = pm.Bernoulli(\"first_flips\", 0.5, size=N)\n",
    "print(first_coin_flips.value)"
   ]
  },
  {
   "cell_type": "code",
   "execution_count": 7,
   "metadata": {
    "collapsed": true
   },
   "outputs": [],
   "source": [
    "second_coin_flips=pm.Bernoulli(\"second_flips\", 0.5, size=N)"
   ]
  },
  {
   "cell_type": "code",
   "execution_count": 8,
   "metadata": {
    "collapsed": true
   },
   "outputs": [],
   "source": [
    "@pm.deterministic\n",
    "def observed_proportion(t_a=true_answers, fc=first_coin_flips, sc=second_coin_flips):\n",
    "    observed= fc * t_a + (1-fc)*sc\n",
    "    return observed.sum() / float(N)"
   ]
  },
  {
   "cell_type": "code",
   "execution_count": 10,
   "metadata": {
    "collapsed": false
   },
   "outputs": [
    {
     "name": "stdout",
     "output_type": "stream",
     "text": [
      "0.39\n"
     ]
    }
   ],
   "source": [
    "print(observed_proportion.value)"
   ]
  },
  {
   "cell_type": "code",
   "execution_count": 11,
   "metadata": {
    "collapsed": true
   },
   "outputs": [],
   "source": [
    "X = 35\n",
    "observations = pm.Binomial(\"obs\", N, observed_proportion, observed=True, value=X)"
   ]
  },
  {
   "cell_type": "code",
   "execution_count": 12,
   "metadata": {
    "collapsed": false
   },
   "outputs": [
    {
     "name": "stdout",
     "output_type": "stream",
     "text": [
      " [-----------------100%-----------------] 40000 of 40000 complete in 11.8 sec"
     ]
    }
   ],
   "source": [
    "model = pm.Model([p, true_answers, first_coin_flips, second_coin_flips,\n",
    "                 observed_proportion, observations])\n",
    "\n",
    "mcmc = pm.MCMC(model)\n",
    "mcmc.sample(40000, 15000)"
   ]
  },
  {
   "cell_type": "code",
   "execution_count": 13,
   "metadata": {
    "collapsed": false
   },
   "outputs": [
    {
     "data": {
      "text/plain": [
       "<matplotlib.legend.Legend at 0x1144f0710>"
      ]
     },
     "execution_count": 13,
     "metadata": {},
     "output_type": "execute_result"
    },
    {
     "data": {
      "image/png": "[encoded data removed]",
      "text/plain": [
       "<matplotlib.figure.Figure at 0x11453a668>"
      ]
     },
     "metadata": {},
     "output_type": "display_data"
    }
   ],
   "source": [
    "figsize(12.5, 3)\n",
    "\n",
    "p_trace =mcmc.trace(\"freq_cheating\")[:]\n",
    "plt.hist(p_trace, histtype=\"stepfilled\", normed=True, alpha=0.85, bins=30,\n",
    "        color=\"#348ABD\", label=\"posterior distribution\")\n",
    "plt.vlines([.05, .35], [0, 0], [5, 5], alpha=0.3)\n",
    "\n",
    "plt.xlim(0,1)\n",
    "plt.xlabel(\"Value of $p$\")\n",
    "plt.ylabel(\"Density\")\n",
    "plt.title(\"Posterior distribution of parameter $p$\")\n",
    "plt.legend()"
   ]
  },
  {
   "cell_type": "code",
   "execution_count": 16,
   "metadata": {
    "collapsed": false
   },
   "outputs": [],
   "source": [
    "p = pm.Uniform(\"freq_cheating\", 0, 1)\n",
    "\n",
    "@pm.deterministic\n",
    "def p_skewed(p=p):\n",
    "    return 0.5 * p + 0.25\n"
   ]
  },
  {
   "cell_type": "code",
   "execution_count": 17,
   "metadata": {
    "collapsed": false
   },
   "outputs": [
    {
     "name": "stdout",
     "output_type": "stream",
     "text": [
      " [-----------------100%-----------------] 25000 of 25000 complete in 1.3 sec"
     ]
    }
   ],
   "source": [
    "yes_responses = pm.Binomial(\"number_cheaters\", 100, p_skewed, value=35, observed=True)\n",
    "model = pm.Model([yes_responses, p_skewed, p])\n",
    "\n",
    "mcmc = pm.MCMC(model)\n",
    "mcmc.sample(25000, 2500)"
   ]
  },
  {
   "cell_type": "code",
   "execution_count": 18,
   "metadata": {
    "collapsed": false
   },
   "outputs": [
    {
     "data": {
      "text/plain": [
       "<matplotlib.legend.Legend at 0x1106ba630>"
      ]
     },
     "execution_count": 18,
     "metadata": {},
     "output_type": "execute_result"
    },
    {
     "data": {
      "image/png": "[encoded data removed]",
      "text/plain": [
       "<matplotlib.figure.Figure at 0x1159d3278>"
      ]
     },
     "metadata": {},
     "output_type": "display_data"
    }
   ],
   "source": [
    "figsize(12.5, 3)\n",
    "\n",
    "p_trace =mcmc.trace(\"freq_cheating\")[:]\n",
    "plt.hist(p_trace, histtype=\"stepfilled\", normed=True, alpha=0.85, bins=30,\n",
    "        color=\"#348ABD\", label=\"posterior distribution\")\n",
    "plt.vlines([.05, .35], [0, 0], [5, 5], alpha=0.3)\n",
    "\n",
    "plt.xlim(0,1)\n",
    "plt.xlabel(\"Value of $p$\")\n",
    "plt.ylabel(\"Density\")\n",
    "plt.title(\"Posterior distribution of parameter $p$\")\n",
    "plt.legend()"
   ]
  },
  {
   "cell_type": "code",
   "execution_count": null,
   "metadata": {
    "collapsed": true
   },
   "outputs": [],
   "source": []
  }
 ],
 "metadata": {
  "kernelspec": {
   "display_name": "Environment (conda_py3_personal)",
   "language": "python",
   "name": "conda_py3_personal"
  },
  "language_info": {
   "codemirror_mode": {
    "name": "ipython",
    "version": 3
   },
   "file_extension": ".py",
   "mimetype": "text/x-python",
   "name": "python",
   "nbconvert_exporter": "python",
   "pygments_lexer": "ipython3",
   "version": "3.5.2"
  }
 },
 "nbformat": 4,
 "nbformat_minor": 0
}
