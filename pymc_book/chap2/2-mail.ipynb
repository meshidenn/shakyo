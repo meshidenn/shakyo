{
 "cells": [
  {
   "cell_type": "code",
   "execution_count": 1,
   "metadata": {
    "collapsed": false
   },
   "outputs": [
    {
     "name": "stdout",
     "output_type": "stream",
     "text": [
      "Children of lambda_:\n",
      "{<pymc.distributions.new_dist_class.<locals>.new_class 'data_generator' at 0x101c89358>} \n",
      "\n",
      "Parents of data_generator:\n",
      "{'mu': <pymc.distributions.new_dist_class.<locals>.new_class 'posspm_param' at 0x10485ff98>} \n",
      "\n",
      "Children of data_generator:\n",
      "{<pymc.PyMCObjects.Deterministic '(data_generator_add_1)' at 0x10d40a208>}\n"
     ]
    }
   ],
   "source": [
    "import pymc as pm\n",
    "\n",
    "lambda_ = pm.Exponential(\"posspm_param\",1)\n",
    "\n",
    "data_generator = pm.Poisson(\"data_generator\", lambda_)\n",
    "data_plus_one = data_generator + 1\n",
    "\n",
    "print(\"Children of lambda_:\")\n",
    "print(lambda_.children, \"\\n\")\n",
    "\n",
    "print(\"Parents of data_generator:\")\n",
    "print(data_generator.parents, \"\\n\")\n",
    "\n",
    "print(\"Children of data_generator:\")\n",
    "print(data_generator.children)"
   ]
  },
  {
   "cell_type": "code",
   "execution_count": 3,
   "metadata": {
    "collapsed": false
   },
   "outputs": [
    {
     "name": "stdout",
     "output_type": "stream",
     "text": [
      "lambda_.value =  1.4083827165447405\n",
      "data_generator.value = 3\n",
      "data_plus_one.value = 4\n"
     ]
    }
   ],
   "source": [
    "print(\"lambda_.value = \", lambda_.value)\n",
    "print(\"data_generator.value =\", data_generator.value)\n",
    "print(\"data_plus_one.value =\", data_plus_one.value)"
   ]
  },
  {
   "cell_type": "code",
   "execution_count": 5,
   "metadata": {
    "collapsed": false
   },
   "outputs": [],
   "source": [
    "discrete_uni_var = pm.DiscreteUniform(\"discrete_uni_var\", 0, 4)"
   ]
  },
  {
   "cell_type": "code",
   "execution_count": 6,
   "metadata": {
    "collapsed": true
   },
   "outputs": [],
   "source": [
    "discrete_uni_var??"
   ]
  },
  {
   "cell_type": "code",
   "execution_count": 7,
   "metadata": {
    "collapsed": false
   },
   "outputs": [
    {
     "name": "stdout",
     "output_type": "stream",
     "text": [
      "Initialized values...\n",
      "lambda_1.value = 0.085\n",
      "lambda_2.value = 0.402\n",
      "tau.value = 5.000000\n",
      "After calling random()\n",
      "lambda_1.value = 1.506\n",
      "lambda_2.value = 0.268\n",
      "tau.value = 6.000000\n"
     ]
    }
   ],
   "source": [
    "lambda_1 = pm.Exponential(\"lambda_1\", 1)\n",
    "lambda_2 = pm.Exponential(\"lambda_2\", 1)\n",
    "tau = pm.DiscreteUniform(\"tau\", lower=0, upper=10)\n",
    "\n",
    "print(\"Initialized values...\")\n",
    "print(\"lambda_1.value = %.3f\" % lambda_1.value)\n",
    "print(\"lambda_2.value = %.3f\" % lambda_2.value)\n",
    "print(\"tau.value = %3f\" % tau.value)\n",
    "\n",
    "lambda_1.random()\n",
    "lambda_2.random()\n",
    "tau.random()\n",
    "\n",
    "print(\"After calling random()\")\n",
    "print(\"lambda_1.value = %.3f\" % lambda_1.value)\n",
    "print(\"lambda_2.value = %.3f\" % lambda_2.value)\n",
    "print(\"tau.value = %3f\" % tau.value)"
   ]
  },
  {
   "cell_type": "code",
   "execution_count": 9,
   "metadata": {
    "collapsed": false
   },
   "outputs": [
    {
     "data": {
      "text/plain": [
       "(0, 8)"
      ]
     },
     "execution_count": 9,
     "metadata": {},
     "output_type": "execute_result"
    },
    {
     "data": {
      "image/png": "[encoded data removed]",
      "text/plain": [
       "<matplotlib.figure.Figure at 0x110deb4a8>"
      ]
     },
     "metadata": {},
     "output_type": "display_data"
    }
   ],
   "source": [
    "from IPython.core.pylabtools import figsize\n",
    "from matplotlib import pyplot as plt\n",
    "%matplotlib inline\n",
    "import numpy as np\n",
    "figsize(12.5, 4)\n",
    "\n",
    "samples = [lambda_1.random() for i in range(20000)]\n",
    "plt.hist(samples, bins=70, normed=True, histtype=\"stepfilled\")\n",
    "\n",
    "plt.title(\"Prior distribution for $\\lambda_1$\")\n",
    "plt.xlabel(\"Value\")\n",
    "plt.ylabel(\"Density\")\n",
    "plt.xlim(0, 8)\n"
   ]
  },
  {
   "cell_type": "code",
   "execution_count": 11,
   "metadata": {
    "collapsed": false
   },
   "outputs": [
    {
     "name": "stdout",
     "output_type": "stream",
     "text": [
      "value:  [10  5]\n",
      "calling .random()\n",
      "value:  [10  5]\n"
     ]
    }
   ],
   "source": [
    "data = np.array([10,5])\n",
    "fixed_variable = pm.Poisson(\"fxd\", 1, value=data, observed=True)\n",
    "print(\"value: \", fixed_variable.value)\n",
    "print(\"calling .random()\")\n",
    "\n",
    "fixed_variable.random()\n",
    "print(\"value: \", fixed_variable.value)"
   ]
  },
  {
   "cell_type": "code",
   "execution_count": 12,
   "metadata": {
    "collapsed": false
   },
   "outputs": [
    {
     "name": "stdout",
     "output_type": "stream",
     "text": [
      "[10 25 15 20 35]\n"
     ]
    }
   ],
   "source": [
    "data = np.array([10,25,15,20,35])\n",
    "obs = pm.Poisson(\"obs\", lambda_, value=data, observed=True)\n",
    "print(obs.value)"
   ]
  },
  {
   "cell_type": "code",
   "execution_count": 13,
   "metadata": {
    "collapsed": true
   },
   "outputs": [],
   "source": [
    "model = pm.Model([obs, lambda_, lambda_1, lambda_2, tau])"
   ]
  },
  {
   "cell_type": "code",
   "execution_count": 14,
   "metadata": {
    "collapsed": false
   },
   "outputs": [
    {
     "name": "stdout",
     "output_type": "stream",
     "text": [
      "65\n"
     ]
    }
   ],
   "source": [
    "tau = pm.rdiscrete_uniform(0, 80)\n",
    "print(tau)"
   ]
  },
  {
   "cell_type": "code",
   "execution_count": 16,
   "metadata": {
    "collapsed": false
   },
   "outputs": [
    {
     "name": "stdout",
     "output_type": "stream",
     "text": [
      "2.28405185271 1.42921723276\n"
     ]
    }
   ],
   "source": [
    "alpha = 1. /20.\n",
    "lambda_1, lambda_2 = pm.rexponential(alpha, 2)\n",
    "print(lambda_1, lambda_2)"
   ]
  },
  {
   "cell_type": "code",
   "execution_count": 17,
   "metadata": {
    "collapsed": false
   },
   "outputs": [
    {
     "name": "stdout",
     "output_type": "stream",
     "text": [
      "[ 2.28405185  2.28405185  2.28405185  2.28405185  2.28405185  2.28405185\n",
      "  2.28405185  2.28405185  2.28405185  2.28405185  2.28405185  2.28405185\n",
      "  2.28405185  2.28405185  2.28405185  2.28405185  2.28405185  2.28405185\n",
      "  2.28405185  2.28405185  2.28405185  2.28405185  2.28405185  2.28405185\n",
      "  2.28405185  2.28405185  2.28405185  2.28405185  2.28405185  2.28405185\n",
      "  2.28405185  2.28405185  2.28405185  2.28405185  2.28405185  2.28405185\n",
      "  2.28405185  2.28405185  2.28405185  2.28405185  2.28405185  2.28405185\n",
      "  2.28405185  2.28405185  2.28405185  2.28405185  2.28405185  2.28405185\n",
      "  2.28405185  2.28405185  2.28405185  2.28405185  2.28405185  2.28405185\n",
      "  2.28405185  2.28405185  2.28405185  2.28405185  2.28405185  2.28405185\n",
      "  2.28405185  2.28405185  2.28405185  2.28405185  2.28405185  1.42921723\n",
      "  1.42921723  1.42921723  1.42921723  1.42921723  1.42921723  1.42921723\n",
      "  1.42921723  1.42921723  1.42921723  1.42921723  1.42921723  1.42921723\n",
      "  1.42921723  1.42921723]\n"
     ]
    }
   ],
   "source": [
    "lambda_ = np.r_[lambda_1 * np.ones(tau), lambda_2 * np.ones(80 - tau)]\n",
    "print(lambda_)"
   ]
  },
  {
   "cell_type": "code",
   "execution_count": 18,
   "metadata": {
    "collapsed": false
   },
   "outputs": [
    {
     "name": "stdout",
     "output_type": "stream",
     "text": [
      "[3 2 3 3 6 5 3 5 1 3 6 3 1 2 1 4 1 2 2 2 4 2 2 0 1 4 1 5 5 1 6 8 1 2 2 3 3\n",
      " 4 2 3 4 5 4 1 4 3 4 2 3 2 4 3 4 2 0 3 2 3 4 2 3 0 3 4 1 0 3 0 0 0 1 1 1 0\n",
      " 3 1 0 2 1 2]\n"
     ]
    }
   ],
   "source": [
    "data = pm.rpoisson(lambda_)\n",
    "print(data)"
   ]
  },
  {
   "cell_type": "code",
   "execution_count": 20,
   "metadata": {
    "collapsed": false
   },
   "outputs": [
    {
     "data": {
      "text/plain": [
       "<matplotlib.legend.Legend at 0x114ff3f98>"
      ]
     },
     "execution_count": 20,
     "metadata": {},
     "output_type": "execute_result"
    },
    {
     "data": {
      "image/png": "[encoded data removed]",
      "text/plain": [
       "<matplotlib.figure.Figure at 0x114992198>"
      ]
     },
     "metadata": {},
     "output_type": "display_data"
    }
   ],
   "source": [
    "plt.bar(np.arange(80), data, color=\"#348ABD\")\n",
    "plt.bar(tau - 1, data[tau-1], color=\"r\", label=\"user behavior changed\")\n",
    "\n",
    "plt.xlabel(\"Time (days)\")\n",
    "plt.ylabel(\"Text messages recieved\")\n",
    "plt.title(\"Artificial dataset from simulating the model\")\n",
    "plt.xlim(0, 80)\n",
    "plt.legend()"
   ]
  },
  {
   "cell_type": "raw",
   "metadata": {},
   "source": [
    "%logstart"
   ]
  },
  {
   "cell_type": "code",
   "execution_count": 21,
   "metadata": {
    "collapsed": false
   },
   "outputs": [
    {
     "name": "stdout",
     "output_type": "stream",
     "text": [
      "Python 3.5.2 |Anaconda 4.3.1 (x86_64)| (default, Jul  2 2016, 17:52:12) \n",
      "[GCC 4.2.1 Compatible Apple LLVM 4.2 (clang-425.0.28)] on darwin\n",
      "Type \"help\", \"copyright\", \"credits\" or \"license\" for more information.\n",
      ">>> ^C\n",
      "Traceback (most recent call last):\n",
      "  File \"<stdin>\", line 1, in <module>\n",
      "KeyboardInterrupt\n",
      ">>> "
     ]
    }
   ],
   "source": [
    "!python"
   ]
  },
  {
   "cell_type": "code",
   "execution_count": 27,
   "metadata": {
    "collapsed": false
   },
   "outputs": [
    {
     "data": {
      "image/png": "[encoded data removed]",
      "text/plain": [
       "<matplotlib.figure.Figure at 0x11500bf98>"
      ]
     },
     "metadata": {},
     "output_type": "display_data"
    }
   ],
   "source": [
    "def plot_artificial_sms_dataset():\n",
    "    tau = pm.rdiscrete_uniform(0,80)\n",
    "    alpha = 1. / 20.\n",
    "    lambda_1, lambda_2 = pm.rexponential(alpha, 2)\n",
    "    lambda_ = np.r_[lambda_1 * np.ones(tau), lambda_2 * np.ones(80 - tau)]\n",
    "    data = pm.rpoisson(lambda_)\n",
    "    plt.bar(np.arange(80), data, color=\"#348ABD\")\n",
    "    plt.bar(tau - 1, data[tau-1], color=\"r\", label=\"user behavior changed\")\n",
    "    plt.xlim(0, 80)\n",
    "\n",
    "figsize(12.5, 7)\n",
    "plt.suptitle(\"More examples of artificial datasets from simulationg our model\")\n",
    "    \n",
    "for i in range(4):\n",
    "    plt.subplot(4,1,i+1)\n",
    "    plt.xlabel(\"Time (days)\")\n",
    "    plot_artificial_sms_dataset()\n"
   ]
  },
  {
   "cell_type": "code",
   "execution_count": null,
   "metadata": {
    "collapsed": true
   },
   "outputs": [],
   "source": []
  }
 ],
 "metadata": {
  "kernelspec": {
   "display_name": "Environment (conda_py3_personal)",
   "language": "python",
   "name": "conda_py3_personal"
  },
  "language_info": {
   "codemirror_mode": {
    "name": "ipython",
    "version": 3
   },
   "file_extension": ".py",
   "mimetype": "text/x-python",
   "name": "python",
   "nbconvert_exporter": "python",
   "pygments_lexer": "ipython3",
   "version": "3.5.2"
  }
 },
 "nbformat": 4,
 "nbformat_minor": 0
}
