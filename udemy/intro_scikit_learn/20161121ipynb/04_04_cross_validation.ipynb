{
 "cells": [
  {
   "cell_type": "code",
   "execution_count": 1,
   "metadata": {
    "collapsed": false
   },
   "outputs": [
    {
     "name": "stdout",
     "output_type": "stream",
     "text": [
      "0.929824561404\n",
      "0.964912280702\n",
      "0.929824561404\n",
      "0.947368421053\n",
      "0.947368421053\n",
      "0.982456140351\n",
      "0.982456140351\n",
      "0.964912280702\n",
      "0.982456140351\n",
      "0.875\n"
     ]
    }
   ],
   "source": [
    "import numpy as np\n",
    "\n",
    "from sklearn.datasets import load_breast_cancer\n",
    "data = load_breast_cancer()\n",
    "\n",
    "X = data.data\n",
    "y = data.target\n",
    "\n",
    "from sklearn import linear_model\n",
    "clf = linear_model.LogisticRegression()\n",
    "\n",
    "from sklearn.model_selection import KFold\n",
    "ss = KFold(n_splits=10, shuffle=True)\n",
    "\n",
    "for train_index, test_index in ss.split(X, y):\n",
    "\n",
    "    X_train, X_test = X[train_index], X[test_index]\n",
    "    y_train, y_test = y[train_index], y[test_index]\n",
    "    \n",
    "    clf.fit(X_train, y_train)\n",
    "    print(clf.score(X_test, y_test))"
   ]
  },
  {
   "cell_type": "code",
   "execution_count": 2,
   "metadata": {
    "collapsed": false,
    "scrolled": true
   },
   "outputs": [
    {
     "name": "stdout",
     "output_type": "stream",
     "text": [
      "(array([0, 1]), array([212, 357]))\n",
      "[ 0.37258348  0.62741652]\n"
     ]
    }
   ],
   "source": [
    "print(np.unique(y, return_counts=True))\n",
    "print(np.unique(y, return_counts=True)[1] / y.size)"
   ]
  },
  {
   "cell_type": "code",
   "execution_count": 3,
   "metadata": {
    "collapsed": false
   },
   "outputs": [
    {
     "name": "stdout",
     "output_type": "stream",
     "text": [
      "[ 0.36132812  0.63867188] 512 [ 0.47368421  0.52631579] 57\n",
      "[ 0.37890625  0.62109375] 512 [ 0.31578947  0.68421053] 57\n",
      "[ 0.38085938  0.61914062] 512 [ 0.29824561  0.70175439] 57\n",
      "[ 0.36523438  0.63476562] 512 [ 0.43859649  0.56140351] 57\n",
      "[ 0.37304688  0.62695312] 512 [ 0.36842105  0.63157895] 57\n",
      "[ 0.375  0.625] 512 [ 0.35087719  0.64912281] 57\n",
      "[ 0.375  0.625] 512 [ 0.35087719  0.64912281] 57\n",
      "[ 0.36328125  0.63671875] 512 [ 0.45614035  0.54385965] 57\n",
      "[ 0.375  0.625] 512 [ 0.35087719  0.64912281] 57\n",
      "[ 0.37816764  0.62183236] 513 [ 0.32142857  0.67857143] 56\n"
     ]
    }
   ],
   "source": [
    "ss = KFold(n_splits=10, shuffle=True)\n",
    "\n",
    "for train_index, test_index in ss.split(X, y):\n",
    "\n",
    "    X_train, X_test = X[train_index], X[test_index]\n",
    "    y_train, y_test = y[train_index], y[test_index]\n",
    "    \n",
    "    print(np.unique(y_train, return_counts=True)[1] / y_train.size, y_train.size, \n",
    "          np.unique(y_test,  return_counts=True)[1] / y_test.size,  y_test.size)\n",
    "    "
   ]
  },
  {
   "cell_type": "code",
   "execution_count": 4,
   "metadata": {
    "collapsed": false
   },
   "outputs": [
    {
     "name": "stdout",
     "output_type": "stream",
     "text": [
      "[ 0.37181996  0.62818004] 511 [ 0.37931034  0.62068966] 58\n",
      "[ 0.37181996  0.62818004] 511 [ 0.37931034  0.62068966] 58\n",
      "[ 0.37304688  0.62695312] 512 [ 0.36842105  0.63157895] 57\n",
      "[ 0.37304688  0.62695312] 512 [ 0.36842105  0.63157895] 57\n",
      "[ 0.37304688  0.62695312] 512 [ 0.36842105  0.63157895] 57\n",
      "[ 0.37304688  0.62695312] 512 [ 0.36842105  0.63157895] 57\n",
      "[ 0.37304688  0.62695312] 512 [ 0.36842105  0.63157895] 57\n",
      "[ 0.37231969  0.62768031] 513 [ 0.375  0.625] 56\n",
      "[ 0.37231969  0.62768031] 513 [ 0.375  0.625] 56\n",
      "[ 0.37231969  0.62768031] 513 [ 0.375  0.625] 56\n"
     ]
    }
   ],
   "source": [
    "from sklearn.model_selection import StratifiedKFold\n",
    "ss = StratifiedKFold(n_splits=10, shuffle=True)\n",
    "\n",
    "for train_index, test_index in ss.split(X, y):\n",
    "\n",
    "    X_train, X_test = X[train_index], X[test_index]\n",
    "    y_train, y_test = y[train_index], y[test_index]\n",
    "    \n",
    "    print(np.unique(y_train, return_counts=True)[1] / y_train.size, y_train.size, \n",
    "          np.unique(y_test,  return_counts=True)[1] / y_test.size,  y_test.size)\n",
    "    "
   ]
  },
  {
   "cell_type": "code",
   "execution_count": 5,
   "metadata": {
    "collapsed": false
   },
   "outputs": [],
   "source": [
    "from sklearn.model_selection import cross_val_score\n",
    "ave_score = cross_val_score(clf, \n",
    "                            X, y, \n",
    "                            cv=10) # StratifiedKFold"
   ]
  },
  {
   "cell_type": "code",
   "execution_count": 6,
   "metadata": {
    "collapsed": false
   },
   "outputs": [
    {
     "name": "stdout",
     "output_type": "stream",
     "text": [
      "94.91 +/- 1.61 %\n"
     ]
    }
   ],
   "source": [
    "print(\"{0:4.2f} +/- {1:4.2f} %\".format(ave_score.mean() * 100, ave_score.std() * 100))"
   ]
  },
  {
   "cell_type": "code",
   "execution_count": null,
   "metadata": {
    "collapsed": true
   },
   "outputs": [],
   "source": []
  }
 ],
 "metadata": {
  "anaconda-cloud": {},
  "kernelspec": {
   "display_name": "Python 3",
   "language": "python",
   "name": "python3"
  },
  "language_info": {
   "codemirror_mode": {
    "name": "ipython",
    "version": 3
   },
   "file_extension": ".py",
   "mimetype": "text/x-python",
   "name": "python",
   "nbconvert_exporter": "python",
   "pygments_lexer": "ipython3",
   "version": "3.5.1"
  }
 },
 "nbformat": 4,
 "nbformat_minor": 1
}
