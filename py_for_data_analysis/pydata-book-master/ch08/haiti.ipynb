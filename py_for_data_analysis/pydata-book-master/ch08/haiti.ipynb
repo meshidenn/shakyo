{
 "cells": [
  {
   "cell_type": "code",
   "execution_count": 43,
   "metadata": {
    "collapsed": false
   },
   "outputs": [],
   "source": [
    "import numpy as np\n",
    "import pandas as pd\n",
    "from pandas import Series, DataFrame\n",
    "import matplotlib.pyplot as plt\n",
    "%matplotlib inline\n"
   ]
  },
  {
   "cell_type": "code",
   "execution_count": 44,
   "metadata": {
    "collapsed": true
   },
   "outputs": [],
   "source": [
    "data = pd.read_csv('Haiti.csv')"
   ]
  },
  {
   "cell_type": "code",
   "execution_count": 45,
   "metadata": {
    "collapsed": false
   },
   "outputs": [
    {
     "name": "stdout",
     "output_type": "stream",
     "text": [
      "<class 'pandas.core.frame.DataFrame'>\n",
      "RangeIndex: 3593 entries, 0 to 3592\n",
      "Data columns (total 10 columns):\n",
      "Serial            3593 non-null int64\n",
      "INCIDENT TITLE    3593 non-null object\n",
      "INCIDENT DATE     3593 non-null object\n",
      "LOCATION          3592 non-null object\n",
      "DESCRIPTION       3593 non-null object\n",
      "CATEGORY          3587 non-null object\n",
      "LATITUDE          3593 non-null float64\n",
      "LONGITUDE         3593 non-null float64\n",
      "APPROVED          3593 non-null object\n",
      "VERIFIED          3593 non-null object\n",
      "dtypes: float64(2), int64(1), object(7)\n",
      "memory usage: 280.8+ KB\n"
     ]
    }
   ],
   "source": [
    "data.info()"
   ]
  },
  {
   "cell_type": "code",
   "execution_count": 46,
   "metadata": {
    "collapsed": false
   },
   "outputs": [
    {
     "data": {
      "text/html": [
       "<div>\n",
       "<table border=\"1\" class=\"dataframe\">\n",
       "  <thead>\n",
       "    <tr style=\"text-align: right;\">\n",
       "      <th></th>\n",
       "      <th>INCIDENT DATE</th>\n",
       "      <th>LATITUDE</th>\n",
       "      <th>LONGITUDE</th>\n",
       "    </tr>\n",
       "  </thead>\n",
       "  <tbody>\n",
       "    <tr>\n",
       "      <th>0</th>\n",
       "      <td>05/07/2010 17:26</td>\n",
       "      <td>18.233333</td>\n",
       "      <td>-72.533333</td>\n",
       "    </tr>\n",
       "    <tr>\n",
       "      <th>1</th>\n",
       "      <td>28/06/2010 23:06</td>\n",
       "      <td>50.226029</td>\n",
       "      <td>5.729886</td>\n",
       "    </tr>\n",
       "    <tr>\n",
       "      <th>2</th>\n",
       "      <td>24/06/2010 16:21</td>\n",
       "      <td>22.278381</td>\n",
       "      <td>114.174287</td>\n",
       "    </tr>\n",
       "    <tr>\n",
       "      <th>3</th>\n",
       "      <td>20/06/2010 21:59</td>\n",
       "      <td>44.407062</td>\n",
       "      <td>8.933989</td>\n",
       "    </tr>\n",
       "    <tr>\n",
       "      <th>4</th>\n",
       "      <td>18/05/2010 16:26</td>\n",
       "      <td>18.571084</td>\n",
       "      <td>-72.334671</td>\n",
       "    </tr>\n",
       "    <tr>\n",
       "      <th>5</th>\n",
       "      <td>26/04/2010 13:14</td>\n",
       "      <td>18.593707</td>\n",
       "      <td>-72.310079</td>\n",
       "    </tr>\n",
       "    <tr>\n",
       "      <th>6</th>\n",
       "      <td>26/04/2010 14:19</td>\n",
       "      <td>18.482800</td>\n",
       "      <td>-73.638800</td>\n",
       "    </tr>\n",
       "    <tr>\n",
       "      <th>7</th>\n",
       "      <td>26/04/2010 14:27</td>\n",
       "      <td>18.415000</td>\n",
       "      <td>-73.195000</td>\n",
       "    </tr>\n",
       "    <tr>\n",
       "      <th>8</th>\n",
       "      <td>15/03/2010 10:58</td>\n",
       "      <td>18.517443</td>\n",
       "      <td>-72.236841</td>\n",
       "    </tr>\n",
       "    <tr>\n",
       "      <th>9</th>\n",
       "      <td>15/03/2010 11:00</td>\n",
       "      <td>18.547790</td>\n",
       "      <td>-72.410010</td>\n",
       "    </tr>\n",
       "  </tbody>\n",
       "</table>\n",
       "</div>"
      ],
      "text/plain": [
       "      INCIDENT DATE   LATITUDE   LONGITUDE\n",
       "0  05/07/2010 17:26  18.233333  -72.533333\n",
       "1  28/06/2010 23:06  50.226029    5.729886\n",
       "2  24/06/2010 16:21  22.278381  114.174287\n",
       "3  20/06/2010 21:59  44.407062    8.933989\n",
       "4  18/05/2010 16:26  18.571084  -72.334671\n",
       "5  26/04/2010 13:14  18.593707  -72.310079\n",
       "6  26/04/2010 14:19  18.482800  -73.638800\n",
       "7  26/04/2010 14:27  18.415000  -73.195000\n",
       "8  15/03/2010 10:58  18.517443  -72.236841\n",
       "9  15/03/2010 11:00  18.547790  -72.410010"
      ]
     },
     "execution_count": 46,
     "metadata": {},
     "output_type": "execute_result"
    }
   ],
   "source": [
    "data[['INCIDENT DATE', 'LATITUDE', 'LONGITUDE']][:10]"
   ]
  },
  {
   "cell_type": "code",
   "execution_count": 47,
   "metadata": {
    "collapsed": false
   },
   "outputs": [
    {
     "data": {
      "text/plain": [
       "0          1. Urgences | Emergency, 3. Public Health, \n",
       "1    1. Urgences | Emergency, 2. Urgences logistiqu...\n",
       "2    2. Urgences logistiques | Vital Lines, 8. Autr...\n",
       "3                            1. Urgences | Emergency, \n",
       "4                            1. Urgences | Emergency, \n",
       "5                       5e. Communication lines down, \n",
       "Name: CATEGORY, dtype: object"
      ]
     },
     "execution_count": 47,
     "metadata": {},
     "output_type": "execute_result"
    }
   ],
   "source": [
    "data['CATEGORY'][:6]"
   ]
  },
  {
   "cell_type": "code",
   "execution_count": 48,
   "metadata": {
    "collapsed": false
   },
   "outputs": [
    {
     "data": {
      "text/plain": [
       "1198    NaN\n",
       "1531    NaN\n",
       "1828    NaN\n",
       "2620    NaN\n",
       "2622    NaN\n",
       "2623    NaN\n",
       "Name: CATEGORY, dtype: object"
      ]
     },
     "execution_count": 48,
     "metadata": {},
     "output_type": "execute_result"
    }
   ],
   "source": [
    "data[data['CATEGORY'].isnull()]['CATEGORY']"
   ]
  },
  {
   "cell_type": "code",
   "execution_count": 49,
   "metadata": {
    "collapsed": false
   },
   "outputs": [
    {
     "data": {
      "text/html": [
       "<div>\n",
       "<table border=\"1\" class=\"dataframe\">\n",
       "  <thead>\n",
       "    <tr style=\"text-align: right;\">\n",
       "      <th></th>\n",
       "      <th>Serial</th>\n",
       "      <th>LATITUDE</th>\n",
       "      <th>LONGITUDE</th>\n",
       "    </tr>\n",
       "  </thead>\n",
       "  <tbody>\n",
       "    <tr>\n",
       "      <th>count</th>\n",
       "      <td>3593.000000</td>\n",
       "      <td>3593.000000</td>\n",
       "      <td>3593.000000</td>\n",
       "    </tr>\n",
       "    <tr>\n",
       "      <th>mean</th>\n",
       "      <td>2080.277484</td>\n",
       "      <td>18.611495</td>\n",
       "      <td>-72.322680</td>\n",
       "    </tr>\n",
       "    <tr>\n",
       "      <th>std</th>\n",
       "      <td>1171.100360</td>\n",
       "      <td>0.738572</td>\n",
       "      <td>3.650776</td>\n",
       "    </tr>\n",
       "    <tr>\n",
       "      <th>min</th>\n",
       "      <td>4.000000</td>\n",
       "      <td>18.041313</td>\n",
       "      <td>-74.452757</td>\n",
       "    </tr>\n",
       "    <tr>\n",
       "      <th>25%</th>\n",
       "      <td>1074.000000</td>\n",
       "      <td>18.524070</td>\n",
       "      <td>-72.417500</td>\n",
       "    </tr>\n",
       "    <tr>\n",
       "      <th>50%</th>\n",
       "      <td>2163.000000</td>\n",
       "      <td>18.539269</td>\n",
       "      <td>-72.335000</td>\n",
       "    </tr>\n",
       "    <tr>\n",
       "      <th>75%</th>\n",
       "      <td>3088.000000</td>\n",
       "      <td>18.561820</td>\n",
       "      <td>-72.293570</td>\n",
       "    </tr>\n",
       "    <tr>\n",
       "      <th>max</th>\n",
       "      <td>4052.000000</td>\n",
       "      <td>50.226029</td>\n",
       "      <td>114.174287</td>\n",
       "    </tr>\n",
       "  </tbody>\n",
       "</table>\n",
       "</div>"
      ],
      "text/plain": [
       "            Serial     LATITUDE    LONGITUDE\n",
       "count  3593.000000  3593.000000  3593.000000\n",
       "mean   2080.277484    18.611495   -72.322680\n",
       "std    1171.100360     0.738572     3.650776\n",
       "min       4.000000    18.041313   -74.452757\n",
       "25%    1074.000000    18.524070   -72.417500\n",
       "50%    2163.000000    18.539269   -72.335000\n",
       "75%    3088.000000    18.561820   -72.293570\n",
       "max    4052.000000    50.226029   114.174287"
      ]
     },
     "execution_count": 49,
     "metadata": {},
     "output_type": "execute_result"
    }
   ],
   "source": [
    "data.describe()"
   ]
  },
  {
   "cell_type": "code",
   "execution_count": 50,
   "metadata": {
    "collapsed": true
   },
   "outputs": [],
   "source": [
    "data = data[(data.LATITUDE > 18) & (data.LATITUDE < 20) & (data.LONGITUDE > -75)\n",
    "           & (data.LONGITUDE < -70) & data.CATEGORY.notnull()]"
   ]
  },
  {
   "cell_type": "code",
   "execution_count": 51,
   "metadata": {
    "collapsed": false
   },
   "outputs": [],
   "source": [
    "def to_cat_list(catstr):\n",
    "    stripped = (x.strip() for x in catstr.split(','))\n",
    "    return [x for x in stripped if x]\n",
    "\n",
    "def get_all_categories(cat_series):\n",
    "    cat_sets = (set(to_cat_list(x)) for x in cat_series)\n",
    "    return sorted(set.union(*cat_sets))\n",
    "\n",
    "def get_english(cat):\n",
    "    code, names = cat.split('.')\n",
    "    if '|' in names:\n",
    "        names = names.split('|')[1]\n",
    "    return code, names.strip()"
   ]
  },
  {
   "cell_type": "code",
   "execution_count": 52,
   "metadata": {
    "collapsed": false
   },
   "outputs": [
    {
     "data": {
      "text/plain": [
       "('2', 'Vitual Lines')"
      ]
     },
     "execution_count": 52,
     "metadata": {},
     "output_type": "execute_result"
    }
   ],
   "source": [
    "get_english('2. Urgences logistiques | Vitual Lines')\n"
   ]
  },
  {
   "cell_type": "code",
   "execution_count": 53,
   "metadata": {
    "collapsed": false
   },
   "outputs": [
    {
     "data": {
      "text/plain": [
       "'Food Shortage'"
      ]
     },
     "execution_count": 53,
     "metadata": {},
     "output_type": "execute_result"
    }
   ],
   "source": [
    "all_cats = get_all_categories(data.CATEGORY)\n",
    "english_mapping = dict(get_english(x) for x in all_cats)\n",
    "english_mapping['2a']"
   ]
  },
  {
   "cell_type": "code",
   "execution_count": 54,
   "metadata": {
    "collapsed": false
   },
   "outputs": [
    {
     "data": {
      "text/plain": [
       "'Earthquake and aftershocks'"
      ]
     },
     "execution_count": 54,
     "metadata": {},
     "output_type": "execute_result"
    }
   ],
   "source": [
    "english_mapping['6c']"
   ]
  },
  {
   "cell_type": "code",
   "execution_count": 55,
   "metadata": {
    "collapsed": false
   },
   "outputs": [],
   "source": [
    "def get_code(seq):\n",
    "    return [x.split('.')[0] for x in seq if x]\n",
    "\n",
    "all_codes = get_code(all_cats)\n",
    "code_index = pd.Index(np.unique(all_codes))\n",
    "dummy_frame = DataFrame(np.zeros((len(data), len(code_index))), index=data.index, columns=code_index)"
   ]
  },
  {
   "cell_type": "code",
   "execution_count": 56,
   "metadata": {
    "collapsed": false
   },
   "outputs": [
    {
     "name": "stdout",
     "output_type": "stream",
     "text": [
      "<class 'pandas.core.frame.DataFrame'>\n",
      "Int64Index: 3569 entries, 0 to 3592\n",
      "Data columns (total 6 columns):\n",
      "1     3569 non-null float64\n",
      "1a    3569 non-null float64\n",
      "1b    3569 non-null float64\n",
      "1c    3569 non-null float64\n",
      "1d    3569 non-null float64\n",
      "2     3569 non-null float64\n",
      "dtypes: float64(6)\n",
      "memory usage: 195.2 KB\n"
     ]
    }
   ],
   "source": [
    "dummy_frame.ix[:,:6].info()"
   ]
  },
  {
   "cell_type": "code",
   "execution_count": 57,
   "metadata": {
    "collapsed": true
   },
   "outputs": [],
   "source": [
    "for row, cat in zip(data.index, data.CATEGORY):\n",
    "    codes = get_code(to_cat_list(cat))\n",
    "    dummy_frame.ix[row, codes] = 1\n",
    "    \n",
    "data = data.join(dummy_frame.add_prefix('category_'))"
   ]
  },
  {
   "cell_type": "code",
   "execution_count": 58,
   "metadata": {
    "collapsed": false
   },
   "outputs": [
    {
     "name": "stdout",
     "output_type": "stream",
     "text": [
      "<class 'pandas.core.frame.DataFrame'>\n",
      "Int64Index: 3569 entries, 0 to 3592\n",
      "Data columns (total 20 columns):\n",
      "Serial            3569 non-null int64\n",
      "INCIDENT TITLE    3569 non-null object\n",
      "INCIDENT DATE     3569 non-null object\n",
      "LOCATION          3568 non-null object\n",
      "DESCRIPTION       3569 non-null object\n",
      "CATEGORY          3569 non-null object\n",
      "LATITUDE          3569 non-null float64\n",
      "LONGITUDE         3569 non-null float64\n",
      "APPROVED          3569 non-null object\n",
      "VERIFIED          3569 non-null object\n",
      "category_1        3569 non-null float64\n",
      "category_1a       3569 non-null float64\n",
      "category_1b       3569 non-null float64\n",
      "category_1c       3569 non-null float64\n",
      "category_1d       3569 non-null float64\n",
      "category_2        3569 non-null float64\n",
      "category_2a       3569 non-null float64\n",
      "category_2b       3569 non-null float64\n",
      "category_2c       3569 non-null float64\n",
      "category_2d       3569 non-null float64\n",
      "dtypes: float64(12), int64(1), object(7)\n",
      "memory usage: 585.5+ KB\n"
     ]
    }
   ],
   "source": [
    "data.ix[:, :20].info()"
   ]
  },
  {
   "cell_type": "code",
   "execution_count": 62,
   "metadata": {
    "collapsed": false
   },
   "outputs": [],
   "source": [
    "from mpl_toolkits.basemap import Basemap\n",
    "import matplotlib.pyplot as plt\n",
    "\n",
    "def basic_haiti_map(ax=None, lllat=17.25, urlat=20.25, lllon=-75, urlon=-71):\n",
    "    m = Basemap(ax=ax, projection='stere', lon_0=(urlon + lllon)/2, lat_0=(urlat + lllat)/2,\n",
    "               llcrnrlat = lllat, urcrnrlat=urlat, llcrnrlon=lllon, urcrnrlon=urlon, resolution='f')\n",
    "    m.drawcoastlines()\n",
    "    m.drawstates()\n",
    "    m.drawcountries()\n",
    "    return m"
   ]
  },
  {
   "cell_type": "code",
   "execution_count": 70,
   "metadata": {
    "collapsed": false
   },
   "outputs": [
    {
     "name": "stdout",
     "output_type": "stream",
     "text": [
      "9      -72.410010\n",
      "10     -73.195000\n",
      "12     -72.408960\n",
      "13     -72.458954\n",
      "20     -72.103271\n",
      "23     -72.335000\n",
      "24     -73.015000\n",
      "25     -74.116667\n",
      "35     -72.301000\n",
      "37     -72.228740\n",
      "39     -72.653961\n",
      "40     -72.328900\n",
      "41     -73.751221\n",
      "50     -72.407370\n",
      "54     -72.306175\n",
      "55     -72.326350\n",
      "56     -72.266693\n",
      "57     -73.751220\n",
      "58     -72.867594\n",
      "59     -72.688400\n",
      "60     -72.243400\n",
      "63     -72.259500\n",
      "65     -72.319170\n",
      "71     -72.372420\n",
      "72     -72.534050\n",
      "76     -72.228270\n",
      "77     -72.221500\n",
      "78     -72.220190\n",
      "79     -72.222710\n",
      "81     -72.224920\n",
      "          ...    \n",
      "2713   -72.285278\n",
      "2716   -72.285278\n",
      "2721   -72.330270\n",
      "2725   -72.400000\n",
      "2736   -72.866944\n",
      "2737   -72.270295\n",
      "2744   -72.537918\n",
      "2746   -72.247660\n",
      "2749   -72.389167\n",
      "2756   -72.319393\n",
      "2757   -72.406769\n",
      "2760   -72.140000\n",
      "2765   -72.340000\n",
      "2770   -72.279100\n",
      "2771   -72.514658\n",
      "2774   -72.305212\n",
      "2778   -72.336408\n",
      "2784   -72.627418\n",
      "2788   -72.295671\n",
      "2790   -72.274376\n",
      "2791   -72.348851\n",
      "2801   -72.343561\n",
      "2805   -72.337373\n",
      "2811   -72.529678\n",
      "2817   -72.377586\n",
      "2818   -72.263026\n",
      "2826   -72.318176\n",
      "2827   -72.633889\n",
      "2834   -72.338513\n",
      "2836   -72.285233\n",
      "Name: LONGITUDE, dtype: float64 9       18.547790\n",
      "10      18.415000\n",
      "12      18.534260\n",
      "13      18.525190\n",
      "20      18.825717\n",
      "23      18.539167\n",
      "24      18.829100\n",
      "25      18.650000\n",
      "35      18.547300\n",
      "37      18.576850\n",
      "39      19.342245\n",
      "40      18.527800\n",
      "41      18.218916\n",
      "50      18.543175\n",
      "54      18.582474\n",
      "55      18.548390\n",
      "56      18.577500\n",
      "57      18.193070\n",
      "58      18.430230\n",
      "59      19.446100\n",
      "60      18.537600\n",
      "63      18.604000\n",
      "65      18.534960\n",
      "71      18.529520\n",
      "72      18.238072\n",
      "76      18.607410\n",
      "77      18.607190\n",
      "78      18.597070\n",
      "79      18.593850\n",
      "81      18.596180\n",
      "          ...    \n",
      "2713    18.512500\n",
      "2716    18.512500\n",
      "2721    18.557559\n",
      "2725    18.516667\n",
      "2736    18.431389\n",
      "2737    18.626220\n",
      "2744    18.239134\n",
      "2746    18.618330\n",
      "2749    18.532222\n",
      "2756    18.555746\n",
      "2757    18.531700\n",
      "2760    18.360391\n",
      "2765    18.534000\n",
      "2770    18.516100\n",
      "2771    18.539268\n",
      "2774    18.543361\n",
      "2778    18.539269\n",
      "2784    18.508363\n",
      "2788    18.559445\n",
      "2790    18.586872\n",
      "2791    18.548956\n",
      "2801    18.541766\n",
      "2805    18.536365\n",
      "2811    18.245003\n",
      "2817    18.530398\n",
      "2818    18.604423\n",
      "2826    18.540422\n",
      "2827    18.510833\n",
      "2834    18.532962\n",
      "2836    18.597077\n",
      "Name: LATITUDE, dtype: float64\n",
      "0      -72.533333\n",
      "4      -72.334671\n",
      "16     -72.818756\n",
      "19     -72.306519\n",
      "20     -72.103271\n",
      "42     -71.850000\n",
      "44     -71.850000\n",
      "73     -72.328670\n",
      "82     -72.335000\n",
      "98     -72.243347\n",
      "99     -72.286767\n",
      "121    -72.632400\n",
      "122    -72.236960\n",
      "172    -72.316030\n",
      "173    -72.438630\n",
      "222    -73.638800\n",
      "259    -72.608600\n",
      "836    -72.248380\n",
      "852    -72.694750\n",
      "966    -72.290343\n",
      "1013   -72.306100\n",
      "1116   -72.332690\n",
      "1125   -72.274440\n",
      "1153   -72.414536\n",
      "1292   -72.360713\n",
      "1358   -72.690400\n",
      "1398   -72.328700\n",
      "1446   -72.433333\n",
      "1452   -72.372578\n",
      "1470   -72.375190\n",
      "          ...    \n",
      "3413   -72.336408\n",
      "3476   -72.534722\n",
      "3477   -72.290039\n",
      "3478   -72.302778\n",
      "3488   -72.534313\n",
      "3490   -72.335000\n",
      "3491   -72.534722\n",
      "3497   -72.285278\n",
      "3500   -72.333984\n",
      "3502   -72.336408\n",
      "3503   -72.336408\n",
      "3507   -72.336408\n",
      "3508   -72.329633\n",
      "3511   -72.435608\n",
      "3512   -72.305403\n",
      "3514   -72.335000\n",
      "3516   -71.936389\n",
      "3518   -72.336408\n",
      "3519   -72.335000\n",
      "3521   -72.305212\n",
      "3522   -72.266667\n",
      "3529   -72.351837\n",
      "3535   -72.285278\n",
      "3537   -72.302778\n",
      "3549   -72.335000\n",
      "3550   -72.372437\n",
      "3565   -72.335000\n",
      "3566   -72.335000\n",
      "3586   -72.336408\n",
      "3587   -72.336408\n",
      "Name: LONGITUDE, dtype: float64 0       18.233333\n",
      "4       18.571084\n",
      "16      18.426199\n",
      "19      18.587030\n",
      "20      18.825717\n",
      "42      18.383333\n",
      "44      18.383333\n",
      "73      18.530690\n",
      "82      18.539167\n",
      "98      18.583125\n",
      "99      18.511458\n",
      "121     18.510300\n",
      "122     18.518360\n",
      "172     18.536550\n",
      "173     18.496980\n",
      "222     18.482800\n",
      "259     18.514365\n",
      "836     18.618680\n",
      "852     19.446550\n",
      "966     18.529553\n",
      "1013    18.587300\n",
      "1116    18.552210\n",
      "1125    18.625330\n",
      "1153    18.544558\n",
      "1292    18.529915\n",
      "1358    19.450000\n",
      "1398    18.557270\n",
      "1446    18.233333\n",
      "1452    18.529839\n",
      "1470    18.530180\n",
      "          ...    \n",
      "3413    18.539269\n",
      "3476    18.234167\n",
      "3477    19.103648\n",
      "3478    18.544722\n",
      "3488    18.238971\n",
      "3490    18.539167\n",
      "3491    18.234167\n",
      "3497    18.512500\n",
      "3500    18.508261\n",
      "3502    18.539269\n",
      "3503    18.539269\n",
      "3507    18.539269\n",
      "3508    18.532109\n",
      "3511    18.526492\n",
      "3512    18.542524\n",
      "3514    18.539167\n",
      "3516    18.829444\n",
      "3518    18.539269\n",
      "3519    18.539167\n",
      "3521    18.543361\n",
      "3522    18.633333\n",
      "3529    18.535607\n",
      "3535    18.512500\n",
      "3537    18.544722\n",
      "3549    18.539167\n",
      "3550    18.521283\n",
      "3565    18.539167\n",
      "3566    18.539167\n",
      "3586    18.539269\n",
      "3587    18.539269\n",
      "Name: LATITUDE, dtype: float64\n",
      "120    -72.312750\n",
      "122    -72.236960\n",
      "127    -72.658081\n",
      "140    -72.287780\n",
      "145    -74.113400\n",
      "180    -72.205510\n",
      "184    -73.383300\n",
      "190    -72.313070\n",
      "197    -72.607200\n",
      "199    -72.409601\n",
      "216    -72.529678\n",
      "225    -72.864870\n",
      "229    -72.171216\n",
      "231    -72.288000\n",
      "246    -72.699590\n",
      "261    -72.330228\n",
      "264    -73.748710\n",
      "265    -72.303000\n",
      "267    -72.338000\n",
      "275    -72.362560\n",
      "282    -72.255300\n",
      "284    -72.255300\n",
      "369    -72.529356\n",
      "391    -72.699264\n",
      "394    -72.282800\n",
      "396    -72.319470\n",
      "437    -73.004265\n",
      "453    -72.688400\n",
      "457    -72.296160\n",
      "462    -72.318620\n",
      "          ...    \n",
      "2532   -72.335000\n",
      "2533   -72.329650\n",
      "2535   -72.408060\n",
      "2536   -72.226868\n",
      "2548   -72.277881\n",
      "2549   -72.534722\n",
      "2550   -72.534722\n",
      "2552   -72.330723\n",
      "2555   -72.302770\n",
      "2560   -72.277900\n",
      "2562   -72.314760\n",
      "2564   -72.268947\n",
      "2603   -72.349005\n",
      "2635   -72.314930\n",
      "2636   -72.534722\n",
      "2637   -72.415009\n",
      "2639   -72.517319\n",
      "2646   -72.633889\n",
      "2649   -72.335000\n",
      "2654   -74.112911\n",
      "2655   -72.861328\n",
      "2662   -72.516667\n",
      "2676   -72.361344\n",
      "2677   -72.363510\n",
      "2684   -72.301369\n",
      "2699   -72.633889\n",
      "2737   -72.270295\n",
      "2747   -72.265406\n",
      "2748   -72.333298\n",
      "2756   -72.319393\n",
      "Name: LONGITUDE, dtype: float64 120     18.562040\n",
      "122     18.518360\n",
      "127     18.495238\n",
      "140     18.533670\n",
      "145     18.645000\n",
      "180     19.766200\n",
      "184     19.800000\n",
      "190     18.549720\n",
      "197     18.354300\n",
      "199     18.547406\n",
      "216     18.537560\n",
      "225     18.834630\n",
      "229     18.277690\n",
      "231     18.534400\n",
      "246     19.102100\n",
      "261     18.555544\n",
      "264     18.196920\n",
      "265     18.552000\n",
      "267     18.555000\n",
      "275     18.530450\n",
      "282     18.565700\n",
      "284     18.565700\n",
      "369     18.538282\n",
      "391     19.113563\n",
      "394     18.512100\n",
      "396     18.544020\n",
      "437     18.182247\n",
      "453     19.446100\n",
      "457     18.559080\n",
      "462     18.554970\n",
      "          ...    \n",
      "2532    18.539167\n",
      "2533    18.542401\n",
      "2535    18.529598\n",
      "2536    18.575965\n",
      "2548    18.593400\n",
      "2549    18.234167\n",
      "2550    18.234167\n",
      "2552    18.543459\n",
      "2555    18.546680\n",
      "2560    18.593400\n",
      "2562    18.534100\n",
      "2564    18.587818\n",
      "2603    18.538943\n",
      "2635    18.485145\n",
      "2636    18.234167\n",
      "2637    18.526492\n",
      "2639    19.257900\n",
      "2646    18.510833\n",
      "2649    18.539167\n",
      "2654    18.646977\n",
      "2655    18.432062\n",
      "2662    18.550000\n",
      "2676    18.530069\n",
      "2677    18.527794\n",
      "2684    18.497599\n",
      "2699    18.510833\n",
      "2737    18.626220\n",
      "2747    18.584304\n",
      "2748    18.576616\n",
      "2756    18.555746\n",
      "Name: LATITUDE, dtype: float64\n",
      "152    -72.334200\n",
      "153    -72.313970\n",
      "154    -72.398201\n",
      "155    -72.857600\n",
      "170    -72.862700\n",
      "171    -72.617420\n",
      "179    -72.327400\n",
      "219    -72.322254\n",
      "232    -72.330012\n",
      "237    -72.862780\n",
      "238    -72.268066\n",
      "262    -72.447968\n",
      "263    -72.320570\n",
      "270    -72.267270\n",
      "273    -72.304700\n",
      "277    -72.398400\n",
      "311    -72.699560\n",
      "377    -72.830800\n",
      "428    -72.769790\n",
      "430    -72.270900\n",
      "431    -72.278000\n",
      "434    -72.270030\n",
      "435    -72.232361\n",
      "437    -73.004265\n",
      "459    -72.313520\n",
      "486    -72.315940\n",
      "488    -72.336110\n",
      "495    -72.484000\n",
      "497    -72.354300\n",
      "500    -72.288700\n",
      "          ...    \n",
      "2996   -72.395353\n",
      "2998   -72.290511\n",
      "3003   -72.336408\n",
      "3005   -72.294390\n",
      "3011   -72.285278\n",
      "3012   -72.335000\n",
      "3013   -72.315617\n",
      "3014   -72.335000\n",
      "3029   -72.335000\n",
      "3043   -72.301679\n",
      "3047   -72.245556\n",
      "3050   -73.100000\n",
      "3053   -72.337761\n",
      "3127   -72.291884\n",
      "3131   -72.302778\n",
      "3143   -72.333984\n",
      "3147   -72.534722\n",
      "3183   -72.336817\n",
      "3184   -72.304974\n",
      "3191   -72.349091\n",
      "3197   -72.292778\n",
      "3206   -71.852686\n",
      "3220   -72.633889\n",
      "3223   -73.748291\n",
      "3228   -72.289352\n",
      "3232   -72.271130\n",
      "3334   -72.534050\n",
      "3335   -72.282035\n",
      "3336   -72.534050\n",
      "3397   -72.285278\n",
      "Name: LONGITUDE, dtype: float64 152     18.533900\n",
      "153     18.554070\n",
      "154     18.533553\n",
      "155     18.434000\n",
      "170     18.428800\n",
      "171     18.513040\n",
      "179     18.546060\n",
      "219     18.558618\n",
      "232     18.533770\n",
      "237     18.432710\n",
      "238     18.616315\n",
      "262     18.504354\n",
      "263     18.558030\n",
      "270     18.580760\n",
      "273     18.558690\n",
      "277     18.541370\n",
      "311     19.102140\n",
      "377     19.940000\n",
      "428     18.430050\n",
      "430     18.625700\n",
      "431     18.544600\n",
      "434     18.625760\n",
      "435     18.577267\n",
      "437     18.182247\n",
      "459     18.598420\n",
      "486     18.532510\n",
      "488     18.536430\n",
      "495     18.847200\n",
      "497     18.531100\n",
      "500     18.481600\n",
      "          ...    \n",
      "2996    18.539268\n",
      "2998    18.517865\n",
      "3003    18.539269\n",
      "3005    18.537153\n",
      "3011    18.512500\n",
      "3012    18.539167\n",
      "3013    18.540977\n",
      "3014    18.539167\n",
      "3029    18.539167\n",
      "3043    18.560333\n",
      "3047    19.786389\n",
      "3050    18.383333\n",
      "3053    18.532921\n",
      "3127    18.535891\n",
      "3131    18.544722\n",
      "3143    18.570107\n",
      "3147    18.234167\n",
      "3183    18.542076\n",
      "3184    18.549033\n",
      "3191    18.525108\n",
      "3197    18.579721\n",
      "3206    18.397160\n",
      "3220    18.510833\n",
      "3223    18.190359\n",
      "3228    18.576616\n",
      "3232    18.527397\n",
      "3334    18.238072\n",
      "3335    18.512570\n",
      "3336    18.238072\n",
      "3397    18.512500\n",
      "Name: LATITUDE, dtype: float64\n"
     ]
    },
    {
     "data": {
      "image/png": "[encoded data removed]",
      "text/plain": [
       "<matplotlib.figure.Figure at 0x10e961ef0>"
      ]
     },
     "metadata": {},
     "output_type": "display_data"
    }
   ],
   "source": [
    "fig, axes = plt.subplots(nrows=2, ncols=2, figsize=(12,10))\n",
    "fig.subplots_adjust(hspace=0.05, wspace=0.05)\n",
    "\n",
    "to_plot = ['2a', '1', '3c', '7a']\n",
    "lllat=17.25; urlat=20.25; lllon=-75; urlon=-71\n",
    "\n",
    "for code, ax in zip(to_plot, axes.flat):\n",
    "    cat_data = data[data['category_%s' % code] == 1]\n",
    "    print(cat_data.LONGITUDE, cat_data.LATITUDE)"
   ]
  },
  {
   "cell_type": "code",
   "execution_count": 72,
   "metadata": {
    "collapsed": false
   },
   "outputs": [
    {
     "name": "stderr",
     "output_type": "stream",
     "text": [
      "/Users/hiroki/.pyenv/versions/anaconda3-4.0.0/envs/py3_personal/lib/python3.5/site-packages/mpl_toolkits/basemap/__init__.py:3260: MatplotlibDeprecationWarning: The ishold function was deprecated in version 2.0.\n",
      "  b = ax.ishold()\n",
      "/Users/hiroki/.pyenv/versions/anaconda3-4.0.0/envs/py3_personal/lib/python3.5/site-packages/mpl_toolkits/basemap/__init__.py:3269: MatplotlibDeprecationWarning: axes.hold is deprecated.\n",
      "    See the API Changes document (http://matplotlib.org/api/api_changes.html)\n",
      "    for more details.\n",
      "  ax.hold(b)\n"
     ]
    },
    {
     "data": {
      "image/png": "[encoded data removed]",
      "text/plain": [
       "<matplotlib.figure.Figure at 0x112768cf8>"
      ]
     },
     "metadata": {},
     "output_type": "display_data"
    }
   ],
   "source": [
    "fig, axes = plt.subplots(nrows=2, ncols=2, figsize=(12,10))\n",
    "fig.subplots_adjust(hspace=0.05, wspace=0.05)\n",
    "\n",
    "to_plot = ['2a', '1', '3c', '7a']\n",
    "lllat=17.25; urlat=20.25; lllon=-75; urlon=-71\n",
    "\n",
    "for code, ax in zip(to_plot, axes.flat):\n",
    "    m = basic_haiti_map(ax, lllat=lllat, urlat=urlat, lllon=lllon, urlon=urlon)\n",
    "    cat_data = data[data['category_%s' % code] == 1]\n",
    "    \n",
    "    x, y = (cat_data.LONGITUDE, cat_data.LATITUDE)\n",
    "    \n",
    "    m.plot(x,y, 'k.', alpha=0.5)\n",
    "    ax.set_title('%s: %s' % (code, english_mapping[code]))"
   ]
  },
  {
   "cell_type": "code",
   "execution_count": null,
   "metadata": {
    "collapsed": true
   },
   "outputs": [],
   "source": []
  }
 ],
 "metadata": {
  "kernelspec": {
   "display_name": "Environment (conda_py3_personal)",
   "language": "python",
   "name": "conda_py3_personal"
  },
  "language_info": {
   "codemirror_mode": {
    "name": "ipython",
    "version": 3
   },
   "file_extension": ".py",
   "mimetype": "text/x-python",
   "name": "python",
   "nbconvert_exporter": "python",
   "pygments_lexer": "ipython3",
   "version": "3.5.2"
  }
 },
 "nbformat": 4,
 "nbformat_minor": 0
}
