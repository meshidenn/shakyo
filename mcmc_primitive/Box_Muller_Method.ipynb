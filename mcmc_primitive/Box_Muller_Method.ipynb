{
 "cells": [
  {
   "cell_type": "markdown",
   "metadata": {},
   "source": [
    "# Box-Mullerアルゴリズムを用いて正規分布N(0,1)に従う乱数を生成"
   ]
  },
  {
   "cell_type": "code",
   "execution_count": 1,
   "metadata": {
    "collapsed": true
   },
   "outputs": [],
   "source": [
    "import numpy as np\n",
    "from scipy.stats import uniform, norm\n",
    "import matplotlib.pyplot as plt"
   ]
  },
  {
   "cell_type": "markdown",
   "metadata": {},
   "source": [
    "## 独立した一様分布からそれぞれ一様乱数を生成"
   ]
  },
  {
   "cell_type": "code",
   "execution_count": 2,
   "metadata": {
    "collapsed": true
   },
   "outputs": [],
   "source": [
    "np.random.seed()\n",
    "N = 100000\n",
    "rv1 = uniform(loc=0.0, scale=1.0)\n",
    "rv2 = uniform(loc=0.0, scale=1.0)\n",
    "U1 = rv1.rvs(N)\n",
    "U2 = rv2.rvs(N)"
   ]
  },
  {
   "cell_type": "markdown",
   "metadata": {},
   "source": [
    "## Box-Mullerアルゴリズムで正規分布に従う乱数に変換\n",
    "### 2つの一様分布から2つの標準正規分布が得られる"
   ]
  },
  {
   "cell_type": "code",
   "execution_count": 4,
   "metadata": {
    "collapsed": true
   },
   "outputs": [],
   "source": [
    "X1 = np.sqrt(-2 * np.log(U1)) * np.cos(2 * np.pi * U2)\n",
    "X2 = np.sqrt(-2 * np.log(U1)) * np.sin(2 * np.pi * U2)"
   ]
  },
  {
   "cell_type": "markdown",
   "metadata": {},
   "source": [
    "### 変換した乱数の分布と標準正規分布の真のpdfを描画"
   ]
  },
  {
   "cell_type": "code",
   "execution_count": 5,
   "metadata": {
    "collapsed": true
   },
   "outputs": [],
   "source": [
    "rv = norm(loc=0, scale=1)"
   ]
  },
  {
   "cell_type": "markdown",
   "metadata": {},
   "source": [
    "### X1の分布"
   ]
  },
  {
   "cell_type": "code",
   "execution_count": 11,
   "metadata": {
    "collapsed": false
   },
   "outputs": [
    {
     "data": {
      "text/plain": [
       "(-2.3263478740408408, 2.3263478740408408)"
      ]
     },
     "execution_count": 11,
     "metadata": {},
     "output_type": "execute_result"
    }
   ],
   "source": [
    "plt.subplot(2, 1, 1)\n",
    "nbins = 50\n",
    "plt.hist(X1, nbins, normed=True)\n",
    "x = np.linspace(rv.ppf(0.01), rv.ppf(0.99), 1000)\n",
    "y = rv.pdf(x)\n",
    "plt.plot(x, y, 'r-', lw=2)\n",
    "plt.xlim((rv.ppf(0.01), rv.ppf(0.99)))"
   ]
  },
  {
   "cell_type": "markdown",
   "metadata": {},
   "source": [
    "###  X2の分布"
   ]
  },
  {
   "cell_type": "code",
   "execution_count": 12,
   "metadata": {
    "collapsed": false
   },
   "outputs": [
    {
     "data": {
      "image/png": "[encoded data removed]",
      "text/plain": [
       "<matplotlib.figure.Figure at 0x10fbfad30>"
      ]
     },
     "metadata": {},
     "output_type": "display_data"
    }
   ],
   "source": [
    "plt.subplot(2,1,2)\n",
    "plt.hist(X2, nbins, normed=True)\n",
    "x = np.linspace(rv.ppf(0.01), rv.ppf(0.99), 1000)\n",
    "y = rv.pdf(x)\n",
    "plt.plot(x, y, 'r-', lw=2)\n",
    "plt.xlim((rv.ppf(0.01), rv.ppf(0.99)))\n",
    "\n",
    "plt.show()"
   ]
  },
  {
   "cell_type": "markdown",
   "metadata": {},
   "source": [
    "# 中心極限定理(CLT)による正規乱数生成器"
   ]
  },
  {
   "cell_type": "code",
   "execution_count": 13,
   "metadata": {
    "collapsed": true
   },
   "outputs": [],
   "source": [
    "from scipy.stats import norm"
   ]
  },
  {
   "cell_type": "markdown",
   "metadata": {},
   "source": [
    "### 独立した一様分布からそれぞれ一様乱数を生成"
   ]
  },
  {
   "cell_type": "code",
   "execution_count": 15,
   "metadata": {
    "collapsed": true
   },
   "outputs": [],
   "source": [
    "np.random.seed()\n",
    "N = 100000"
   ]
  },
  {
   "cell_type": "markdown",
   "metadata": {},
   "source": [
    "### 12個の一様乱数を使用"
   ]
  },
  {
   "cell_type": "code",
   "execution_count": 16,
   "metadata": {
    "collapsed": true
   },
   "outputs": [],
   "source": [
    "K = 12"
   ]
  },
  {
   "cell_type": "markdown",
   "metadata": {},
   "source": [
    "### (-0.5, 0.5)の一様乱数を生成"
   ]
  },
  {
   "cell_type": "code",
   "execution_count": 17,
   "metadata": {
    "collapsed": true
   },
   "outputs": [],
   "source": [
    "rv = uniform(loc=-0.5, scale=1.0)\n",
    "U = rv.rvs(K*N).reshape((K, -1))"
   ]
  },
  {
   "cell_type": "markdown",
   "metadata": {},
   "source": [
    "### K個の一様分布の和から正規分布を生成"
   ]
  },
  {
   "cell_type": "code",
   "execution_count": 18,
   "metadata": {
    "collapsed": true
   },
   "outputs": [],
   "source": [
    "Z = np.sum(U, axis=0)"
   ]
  },
  {
   "cell_type": "markdown",
   "metadata": {},
   "source": [
    "### 変換した乱数の分布と標準正規分布の真のpdfを描画"
   ]
  },
  {
   "cell_type": "code",
   "execution_count": 20,
   "metadata": {
    "collapsed": false
   },
   "outputs": [
    {
     "data": {
      "text/plain": [
       "(array([  1.17806710e-04,   1.17806710e-04,   2.94516776e-04,\n",
       "          3.53420131e-04,   8.24646972e-04,   1.82600401e-03,\n",
       "          3.00407111e-03,   4.18213822e-03,   8.59988985e-03,\n",
       "          1.50792589e-02,   2.15586280e-02,   3.05119380e-02,\n",
       "          4.68281673e-02,   6.44402705e-02,   9.04166501e-02,\n",
       "          1.19514908e-01,   1.53914467e-01,   1.86605829e-01,\n",
       "          2.29546375e-01,   2.70130787e-01,   3.03470086e-01,\n",
       "          3.46881858e-01,   3.74154112e-01,   3.83519745e-01,\n",
       "          3.89174467e-01,   3.92237442e-01,   3.75508889e-01,\n",
       "          3.45762695e-01,   3.29151949e-01,   2.88390827e-01,\n",
       "          2.58055599e-01,   2.08105554e-01,   1.71762184e-01,\n",
       "          1.33651713e-01,   9.98411870e-02,   8.09921133e-02,\n",
       "          5.40732800e-02,   3.97008614e-02,   2.69188333e-02,\n",
       "          1.69641663e-02,   1.01313771e-02,   6.42046571e-03,\n",
       "          3.65200802e-03,   1.53148723e-03,   1.47258388e-03,\n",
       "          5.89033551e-04,   1.17806710e-04,   0.00000000e+00,\n",
       "          1.17806710e-04,   1.17806710e-04]),\n",
       " array([-4.20267509, -4.03290547, -3.86313586, -3.69336624, -3.52359662,\n",
       "        -3.35382701, -3.18405739, -3.01428778, -2.84451816, -2.67474854,\n",
       "        -2.50497893, -2.33520931, -2.16543969, -1.99567008, -1.82590046,\n",
       "        -1.65613085, -1.48636123, -1.31659161, -1.146822  , -0.97705238,\n",
       "        -0.80728276, -0.63751315, -0.46774353, -0.29797392, -0.1282043 ,\n",
       "         0.04156532,  0.21133493,  0.38110455,  0.55087417,  0.72064378,\n",
       "         0.8904134 ,  1.06018301,  1.22995263,  1.39972225,  1.56949186,\n",
       "         1.73926148,  1.9090311 ,  2.07880071,  2.24857033,  2.41833994,\n",
       "         2.58810956,  2.75787918,  2.92764879,  3.09741841,  3.26718803,\n",
       "         3.43695764,  3.60672726,  3.77649687,  3.94626649,  4.11603611,\n",
       "         4.28580572]),\n",
       " <a list of 50 Patch objects>)"
      ]
     },
     "execution_count": 20,
     "metadata": {},
     "output_type": "execute_result"
    }
   ],
   "source": [
    "plt.figure(1)\n",
    "nbins = 50\n",
    "plt.hist(Z, nbins, normed=True)"
   ]
  },
  {
   "cell_type": "code",
   "execution_count": 21,
   "metadata": {
    "collapsed": false
   },
   "outputs": [
    {
     "data": {
      "image/png": "[encoded data removed]",
      "text/plain": [
       "<matplotlib.figure.Figure at 0x10f8beba8>"
      ]
     },
     "metadata": {},
     "output_type": "display_data"
    }
   ],
   "source": [
    "rv = norm(loc=0, scale=1)\n",
    "x = np.linspace(rv.ppf(0.01), rv.ppf(0.99), 1000)\n",
    "y = rv.pdf(x)\n",
    "plt.plot(x, y, 'r-', lw=2)\n",
    "plt.xlim((rv.ppf(0.01), rv.ppf(0.99)))\n",
    "\n",
    "plt.show()"
   ]
  },
  {
   "cell_type": "code",
   "execution_count": null,
   "metadata": {
    "collapsed": true
   },
   "outputs": [],
   "source": []
  }
 ],
 "metadata": {
  "kernelspec": {
   "display_name": "Python 3",
   "language": "python",
   "name": "python3"
  },
  "language_info": {
   "codemirror_mode": {
    "name": "ipython",
    "version": 3
   },
   "file_extension": ".py",
   "mimetype": "text/x-python",
   "name": "python",
   "nbconvert_exporter": "python",
   "pygments_lexer": "ipython3",
   "version": "3.6.0"
  }
 },
 "nbformat": 4,
 "nbformat_minor": 2
}
