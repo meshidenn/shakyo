{
 "cells": [
  {
   "cell_type": "code",
   "execution_count": 1,
   "metadata": {
    "collapsed": true
   },
   "outputs": [],
   "source": [
    "import numpy as np\n",
    "import matplotlib.pyplot as plt\n",
    "import scipy.integrate\n",
    "from scipy.stats import norm"
   ]
  },
  {
   "cell_type": "markdown",
   "metadata": {},
   "source": [
    "## 単純な重点サンプリングの例"
   ]
  },
  {
   "cell_type": "code",
   "execution_count": 2,
   "metadata": {
    "collapsed": true
   },
   "outputs": [],
   "source": [
    "a = 5.0\n",
    "f = norm.pdf\n",
    "h = lambda x: x > a\n",
    "y = lambda x: h(x) * f(x)"
   ]
  },
  {
   "cell_type": "markdown",
   "metadata": {},
   "source": [
    "## scipy.integrateでの積分"
   ]
  },
  {
   "cell_type": "code",
   "execution_count": 3,
   "metadata": {},
   "outputs": [
    {
     "name": "stdout",
     "output_type": "stream",
     "text": [
      "scipy.integrate: 2.8665157035203983e-07 2.866527562360824e-07\n"
     ]
    }
   ],
   "source": [
    "I1 = scipy.integrate.quad(f, a, np.inf)[0]\n",
    "I2 = scipy.integrate.quad(y, -np.inf, np.inf)[0]\n",
    "print(\"scipy.integrate:\",I1 ,I2)"
   ]
  },
  {
   "cell_type": "markdown",
   "metadata": {},
   "source": [
    "## 普通のモンテカルロ積分"
   ]
  },
  {
   "cell_type": "code",
   "execution_count": 5,
   "metadata": {},
   "outputs": [
    {
     "name": "stdout",
     "output_type": "stream",
     "text": [
      "normal monte carlo integration: 0.0\n"
     ]
    }
   ],
   "source": [
    "N = 1000\n",
    "x = norm.rvs(size=N)\n",
    "I = np.mean(h(x))\n",
    "print(\"normal monte carlo integration:\",I)"
   ]
  },
  {
   "cell_type": "markdown",
   "metadata": {},
   "source": [
    "## 重点サンプリング"
   ]
  },
  {
   "cell_type": "code",
   "execution_count": 6,
   "metadata": {},
   "outputs": [
    {
     "name": "stdout",
     "output_type": "stream",
     "text": [
      "importance sampling: 3.01481608287e-07\n"
     ]
    }
   ],
   "source": [
    "g = norm(loc=5, scale=1).pdf\n",
    "x = norm(loc=5, scale=1).rvs(size=N)\n",
    "I = np.mean(f(x) / g(x) * h(x))\n",
    "print(\"importance sampling:\", I)"
   ]
  },
  {
   "cell_type": "markdown",
   "metadata": {},
   "source": [
    "## グラフ描画"
   ]
  },
  {
   "cell_type": "code",
   "execution_count": 7,
   "metadata": {},
   "outputs": [
    {
     "data": {
      "text/plain": [
       "<matplotlib.legend.Legend at 0x119e70e48>"
      ]
     },
     "execution_count": 7,
     "metadata": {},
     "output_type": "execute_result"
    }
   ],
   "source": [
    "plt.subplot(211)\n",
    "ix = np.arange(-5, 15, 0.01)\n",
    "plt.plot(ix, f(ix), label='f(x)')\n",
    "plt.plot(ix, g(ix), label='g(x)')\n",
    "plt.plot(ix, h(ix), label='h(x)')\n",
    "plt.xlim((-5, 15))\n",
    "plt.ylim((0, 2))\n",
    "plt.legend(loc='best')"
   ]
  },
  {
   "cell_type": "markdown",
   "metadata": {},
   "source": [
    "## 被積分関数yの値がある部分をズームインして表示"
   ]
  },
  {
   "cell_type": "code",
   "execution_count": 8,
   "metadata": {},
   "outputs": [
    {
     "data": {
      "image/png": "[encoded data removed]",
      "text/plain": [
       "<matplotlib.figure.Figure at 0x116af5898>"
      ]
     },
     "metadata": {},
     "output_type": "display_data"
    }
   ],
   "source": [
    "plt.subplot(212)\n",
    "plt.plot(ix, y(ix), label='h(x) * f(x)')\n",
    "plt.xlim((4.9, 7))\n",
    "plt.legend(loc='best')\n",
    "plt.show()"
   ]
  },
  {
   "cell_type": "code",
   "execution_count": null,
   "metadata": {
    "collapsed": true
   },
   "outputs": [],
   "source": []
  }
 ],
 "metadata": {
  "kernelspec": {
   "display_name": "Python 3",
   "language": "python",
   "name": "python3"
  },
  "language_info": {
   "codemirror_mode": {
    "name": "ipython",
    "version": 3
   },
   "file_extension": ".py",
   "mimetype": "text/x-python",
   "name": "python",
   "nbconvert_exporter": "python",
   "pygments_lexer": "ipython3",
   "version": "3.5.3"
  }
 },
 "nbformat": 4,
 "nbformat_minor": 2
}
