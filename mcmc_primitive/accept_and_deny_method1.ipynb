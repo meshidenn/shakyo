{
 "cells": [
  {
   "cell_type": "markdown",
   "metadata": {},
   "source": [
    "# ベーた乱数を受理・棄却法で生成\n",
    "- 目標分布のpdfは既知\n",
    "- 提案分布として一様分布を使用"
   ]
  },
  {
   "cell_type": "code",
   "execution_count": 1,
   "metadata": {
    "collapsed": true
   },
   "outputs": [],
   "source": [
    "import numpy as np\n",
    "import matplotlib.pyplot as plt\n",
    "import scipy.optimize\n",
    "from scipy.stats import uniform, beta"
   ]
  },
  {
   "cell_type": "code",
   "execution_count": 3,
   "metadata": {},
   "outputs": [],
   "source": [
    "np.random.seed()"
   ]
  },
  {
   "cell_type": "markdown",
   "metadata": {},
   "source": [
    "## 目標分布f"
   ]
  },
  {
   "cell_type": "code",
   "execution_count": 4,
   "metadata": {
    "collapsed": true
   },
   "outputs": [],
   "source": [
    "f = beta(a=2.7, b=6.3).pdf"
   ]
  },
  {
   "cell_type": "markdown",
   "metadata": {},
   "source": [
    "## 提案分布g\n",
    "- 提案分布から乱数生成するためにgvも保持"
   ]
  },
  {
   "cell_type": "code",
   "execution_count": 5,
   "metadata": {
    "collapsed": true
   },
   "outputs": [],
   "source": [
    "gv = uniform\n",
    "g = gv.pdf"
   ]
  },
  {
   "cell_type": "markdown",
   "metadata": {},
   "source": [
    "## 分布の上限をしていする定数Mを設定\n",
    "- ベータ分布のpdfの上限値を指定すればバータ分布を全ておおえる\n",
    "- 最大値を求めるためにベーた分布のpdfにマイナスをつけて\n",
    "- 最小値問題に帰着させる\n"
   ]
  },
  {
   "cell_type": "code",
   "execution_count": 6,
   "metadata": {},
   "outputs": [
    {
     "name": "stdout",
     "output_type": "stream",
     "text": [
      "M =  2.66974399495\n"
     ]
    }
   ],
   "source": [
    "xopt = scipy.optimize.fmin(lambda x: -f(x), 0.0, disp=False)\n",
    "M = f(xopt)[0]\n",
    "print(\"M = \",M)"
   ]
  },
  {
   "cell_type": "code",
   "execution_count": 7,
   "metadata": {
    "collapsed": true
   },
   "outputs": [],
   "source": [
    "Nsim = 100000"
   ]
  },
  {
   "cell_type": "markdown",
   "metadata": {},
   "source": [
    "## 提案分布gからの乱数Yを生成"
   ]
  },
  {
   "cell_type": "code",
   "execution_count": 8,
   "metadata": {
    "collapsed": true
   },
   "outputs": [],
   "source": [
    "Y = gv.rvs(size=Nsim)"
   ]
  },
  {
   "cell_type": "markdown",
   "metadata": {},
   "source": [
    "## 一様乱数UをNsim個生成"
   ]
  },
  {
   "cell_type": "code",
   "execution_count": 9,
   "metadata": {
    "collapsed": true
   },
   "outputs": [],
   "source": [
    "U = uniform.rvs(size=Nsim)"
   ]
  },
  {
   "cell_type": "markdown",
   "metadata": {},
   "source": [
    "## Yから受理の条件を満たすサンプルXを残して残りを棄却"
   ]
  },
  {
   "cell_type": "code",
   "execution_count": 10,
   "metadata": {
    "collapsed": true
   },
   "outputs": [],
   "source": [
    "X = Y[U <= f(Y) / (M * g(Y))]"
   ]
  },
  {
   "cell_type": "code",
   "execution_count": 14,
   "metadata": {},
   "outputs": [
    {
     "name": "stdout",
     "output_type": "stream",
     "text": [
      "サンプル数: 100000 => 37601\n",
      "実際の受理率: 0.37601\n",
      "理想的な受理率: 0.37456774952703703\n"
     ]
    }
   ],
   "source": [
    "print(\"サンプル数: {} => {}\".format(len(Y), len(X)))\n",
    "print(\"実際の受理率: {}\".format(len(X) / float(len(Y))))\n",
    "print(\"理想的な受理率: {}\".format(1.0/M))"
   ]
  },
  {
   "cell_type": "markdown",
   "metadata": {},
   "source": [
    "## 目標分布を描画"
   ]
  },
  {
   "cell_type": "code",
   "execution_count": 19,
   "metadata": {},
   "outputs": [
    {
     "data": {
      "text/plain": [
       "[<matplotlib.lines.Line2D at 0x113e21c50>]"
      ]
     },
     "execution_count": 19,
     "metadata": {},
     "output_type": "execute_result"
    }
   ],
   "source": [
    "x = np.linspace(0.0, 1.0, 1000)\n",
    "y = f(x)\n",
    "plt.plot(x, y, 'r-', lw=2)"
   ]
  },
  {
   "cell_type": "markdown",
   "metadata": {},
   "source": [
    "## 提案分布(一様分布)を描画"
   ]
  },
  {
   "cell_type": "code",
   "execution_count": 20,
   "metadata": {},
   "outputs": [
    {
     "data": {
      "text/plain": [
       "[<matplotlib.lines.Line2D at 0x113da1e48>]"
      ]
     },
     "execution_count": 20,
     "metadata": {},
     "output_type": "execute_result"
    }
   ],
   "source": [
    "y = M * uniform.pdf(x)\n",
    "plt.plot(x, y, 'g-', lw=2)"
   ]
  },
  {
   "cell_type": "markdown",
   "metadata": {},
   "source": [
    "## 受理した乱数の分布を描画"
   ]
  },
  {
   "cell_type": "code",
   "execution_count": 21,
   "metadata": {},
   "outputs": [
    {
     "data": {
      "image/png": "[encoded data removed]",
      "text/plain": [
       "<matplotlib.figure.Figure at 0x113da1c18>"
      ]
     },
     "metadata": {},
     "output_type": "display_data"
    }
   ],
   "source": [
    "plt.hist(X, bins=50, normed=True)\n",
    "plt.show()"
   ]
  },
  {
   "cell_type": "markdown",
   "metadata": {},
   "source": [
    "## プロット"
   ]
  },
  {
   "cell_type": "code",
   "execution_count": 23,
   "metadata": {
    "collapsed": true
   },
   "outputs": [],
   "source": [
    "gv = uniform\n",
    "g = gv.pdf"
   ]
  },
  {
   "cell_type": "code",
   "execution_count": 24,
   "metadata": {
    "collapsed": true
   },
   "outputs": [],
   "source": [
    "Nsim = 2000"
   ]
  },
  {
   "cell_type": "code",
   "execution_count": 26,
   "metadata": {},
   "outputs": [],
   "source": [
    "Y = uniform.rvs(size=Nsim)\n",
    "U = uniform.rvs(size=Nsim)"
   ]
  },
  {
   "cell_type": "code",
   "execution_count": 34,
   "metadata": {},
   "outputs": [
    {
     "name": "stdout",
     "output_type": "stream",
     "text": [
      "[False False  True ..., False  True  True]\n",
      "[ True  True False ...,  True False False]\n"
     ]
    }
   ],
   "source": [
    "acceptedIdx = U <= f(Y) / (M * g(Y))\n",
    "rejectedIdx = U > f(Y) / (M * g(Y))\n",
    "print(acceptedIdx)\n",
    "print(rejectedIdx)"
   ]
  },
  {
   "cell_type": "code",
   "execution_count": 35,
   "metadata": {},
   "outputs": [
    {
     "name": "stdout",
     "output_type": "stream",
     "text": [
      "[ 0.52650944  0.31926619  0.2090576   0.28375732  0.38992159  0.50968802\n",
      "  0.21407281  0.37893568  0.29208484  0.41829178  0.26717467  0.40192212\n",
      "  0.14248943  0.13938016  0.33138852  0.42595312  0.28755842  0.11514139\n",
      "  0.30418443  0.25624077  0.40820865  0.24472514  0.33152673  0.2615055\n",
      "  0.34624154  0.14266349  0.22280493  0.30032428  0.47019653  0.2714534\n",
      "  0.33823413  0.12832146  0.48768337  0.33672163  0.40755077  0.41712384\n",
      "  0.4129423   0.07366193  0.17621643  0.22276568  0.13109624  0.25908377\n",
      "  0.580624    0.20288963  0.09434007  0.17490385  0.32010969  0.39462818\n",
      "  0.25742066  0.4984446   0.29375928  0.32241509  0.14728636  0.30016704\n",
      "  0.10298908  0.55158937  0.52800929  0.1649055   0.20894341  0.39845406\n",
      "  0.20780269  0.42951493  0.46684773  0.31864781  0.05889186  0.50497973\n",
      "  0.24266357  0.09935631  0.52849568  0.27736364  0.23516518  0.29821372\n",
      "  0.30537376  0.3080439   0.11996695  0.52092051  0.30283702  0.2527522\n",
      "  0.19266903  0.1717122   0.30331352  0.408549    0.32971749  0.1116637\n",
      "  0.2585297   0.2558305   0.26063933  0.16567267  0.32890056  0.48419171\n",
      "  0.49851746  0.46521525  0.46101621  0.20240532  0.1723001   0.19458172\n",
      "  0.32441114  0.28272428  0.69504076  0.18684718  0.21858121  0.43253846\n",
      "  0.25590884  0.24544565  0.55680916  0.38583016  0.18117923  0.37542703\n",
      "  0.5839618   0.2462892   0.28358126  0.37447025  0.30718382  0.2631428\n",
      "  0.12122176  0.15470658  0.2157826   0.35147945  0.30597117  0.17246656\n",
      "  0.34487474  0.26142398  0.58967954  0.34877238  0.5138547   0.1814384\n",
      "  0.30185584  0.24971655  0.08015125  0.41495153  0.4619648   0.17632532\n",
      "  0.18534122  0.27228279  0.28926843  0.21193934  0.33924471  0.12416131\n",
      "  0.39367637  0.42356724  0.36949388  0.46178298  0.36831628  0.28546519\n",
      "  0.22150054  0.12127003  0.16582122  0.18930241  0.25984392  0.54868694\n",
      "  0.29104529  0.03659419  0.64272236  0.23562092  0.32835484  0.32081791\n",
      "  0.09378083  0.34512059  0.29922324  0.08480159  0.42934546  0.18026487\n",
      "  0.10843124  0.24075066  0.40722877  0.37851862  0.5674325   0.49497019\n",
      "  0.67378052  0.20951761  0.22092248  0.45515302  0.31599278  0.40528389\n",
      "  0.24869799  0.19265359  0.48427685  0.4399931   0.25758342  0.32601329\n",
      "  0.26338753  0.5195609   0.20018103  0.23169403  0.25245868  0.55917072\n",
      "  0.16811657  0.40311101  0.17562368  0.26602423  0.30886432  0.48981494\n",
      "  0.40904947  0.14974736  0.40393871  0.60058878  0.33336196  0.33848531\n",
      "  0.33991036  0.26829672  0.20464041  0.42457201  0.32629698  0.21440254\n",
      "  0.75754259  0.56434163  0.36755306  0.26885113  0.38583926  0.35444117\n",
      "  0.19451173  0.27643741  0.50651186  0.19897585  0.25309731  0.2959626\n",
      "  0.30706554  0.18722293  0.28808073  0.35474122  0.31171766  0.32732959\n",
      "  0.29570358  0.16163945  0.6540386   0.15685073  0.32223969  0.30199561\n",
      "  0.38594508  0.20465291  0.39261067  0.35844987  0.63257051  0.47745377\n",
      "  0.33771901  0.09241824  0.11387438  0.26935411  0.32031349  0.44291823\n",
      "  0.48983572  0.63594106  0.71918465  0.20138055  0.16073542  0.21423301\n",
      "  0.59013708  0.39199465  0.33668237  0.46457988  0.10312767  0.21148377\n",
      "  0.2797198   0.297817    0.27323432  0.23701614  0.23088812  0.12866437\n",
      "  0.50867057  0.26050488  0.30319607  0.30384686  0.40181877  0.04941964\n",
      "  0.26595053  0.09322256  0.27343793  0.36186508  0.28759299  0.11695406\n",
      "  0.4078149   0.23670731  0.17966792  0.12075815  0.18610534  0.30426651\n",
      "  0.24596484  0.47140086  0.17143419  0.26643519  0.32037109  0.19214272\n",
      "  0.19699666  0.42473802  0.55460337  0.2306427   0.3606438   0.2509315\n",
      "  0.02873929  0.37808867  0.6700567   0.19412395  0.22079903  0.33616054\n",
      "  0.15931708  0.58604979  0.37257456  0.11930774  0.18196127  0.11773798\n",
      "  0.3418497   0.3154043   0.51657881  0.28270967  0.15876841  0.35869359\n",
      "  0.38746318  0.30433976  0.21984741  0.23096571  0.18839288  0.31883457\n",
      "  0.3697403   0.40797897  0.27871367  0.32155118  0.34816407  0.33615632\n",
      "  0.40253784  0.22620067  0.04212404  0.22794125  0.0963314   0.31805186\n",
      "  0.07217899  0.27971674  0.23753607  0.44118535  0.19089981  0.29927234\n",
      "  0.21461859  0.32169866  0.16510577  0.0935722   0.23695495  0.16386435\n",
      "  0.34013541  0.23518586  0.10198178  0.19599425  0.52108237  0.25271371\n",
      "  0.25267228  0.34339243  0.30056813  0.2739944   0.0468016   0.35097257\n",
      "  0.41021154  0.24586223  0.07240187  0.62830911  0.38372416  0.21941898\n",
      "  0.13600821  0.47238498  0.25916232  0.36181401  0.19158874  0.54007271\n",
      "  0.37794958  0.43799925  0.21471514  0.12256876  0.17501675  0.37179272\n",
      "  0.3236672   0.34050961  0.48369574  0.2719913   0.3444298   0.36232353\n",
      "  0.20000333  0.2946717   0.22957298  0.58450069  0.23688995  0.17472631\n",
      "  0.11485737  0.30824676  0.1640875   0.17996779  0.23958372  0.27864122\n",
      "  0.38599411  0.01943316  0.21465096  0.48091645  0.66940036  0.22745283\n",
      "  0.27334984  0.08163955  0.17165196  0.50054564  0.03342403  0.1576835\n",
      "  0.14173757  0.30066709  0.09346424  0.17622646  0.16059547  0.24950626\n",
      "  0.37842322  0.35300241  0.45416122  0.33687891  0.22741025  0.7722837\n",
      "  0.1554782   0.15167674  0.36389686  0.207743    0.07163752  0.50045008\n",
      "  0.13115485  0.29943785  0.22618336  0.22485795  0.32443961  0.17587907\n",
      "  0.04584305  0.18427682  0.07994001  0.29010897  0.18362881  0.25554038\n",
      "  0.04566143  0.21373441  0.23753502  0.12761649  0.08804964  0.11816699\n",
      "  0.51975233  0.3364269   0.30283783  0.38233223  0.5335608   0.19856358\n",
      "  0.31605782  0.12966053  0.2833177   0.3819151   0.32794744  0.30564578\n",
      "  0.11382771  0.49165194  0.55483839  0.30057919  0.41835704  0.17428755\n",
      "  0.18787158  0.34511791  0.26877752  0.35435347  0.21715842  0.28818625\n",
      "  0.2778795   0.17653166  0.30351691  0.07132029  0.32255632  0.06795926\n",
      "  0.41059776  0.17190453  0.39019648  0.0926569   0.57030386  0.60973036\n",
      "  0.19533699  0.36150678  0.3887983   0.41088367  0.16643646  0.53113041\n",
      "  0.14520755  0.46415859  0.40455032  0.18488264  0.4812703   0.36746257\n",
      "  0.16711304  0.39548773  0.1925309   0.18682754  0.30554612  0.42215317\n",
      "  0.28364379  0.2425009   0.5604857   0.2646906   0.37213943  0.34848841\n",
      "  0.58403926  0.59043284  0.34549484  0.34654105  0.3976897   0.33414038\n",
      "  0.24032347  0.37620447  0.24970046  0.23424705  0.13456488  0.25129264\n",
      "  0.33660638  0.2779957   0.32008062  0.34954079  0.71511068  0.09483766\n",
      "  0.19538239  0.32724741  0.23848089  0.1687392   0.40687928  0.32966422\n",
      "  0.35795601  0.56488776  0.26164787  0.22987089  0.44016197  0.23143772\n",
      "  0.36559107  0.49040568  0.20519463  0.23886425  0.59944664  0.24642791\n",
      "  0.4852448   0.61832101  0.56802419  0.39730858  0.22764005  0.43890938\n",
      "  0.32863421  0.59228932  0.26477758  0.23438068  0.21072066  0.46503621\n",
      "  0.21076983  0.25635092  0.09752094  0.28323342  0.28070799  0.09799528\n",
      "  0.23605441  0.44747038  0.56353211  0.58650101  0.27353444  0.19173829\n",
      "  0.17385088  0.20965775  0.35157454  0.18087892  0.36445153  0.34284465\n",
      "  0.20644924  0.0215049   0.4305828   0.21769639  0.21987609  0.11588049\n",
      "  0.37057937  0.41805761  0.42303831  0.07618797  0.22408445  0.10404786\n",
      "  0.27480218  0.51572397  0.10430936  0.42623013  0.27439165  0.22773481\n",
      "  0.43295874  0.26713019  0.23709143  0.37396935  0.37726353  0.1565602\n",
      "  0.09450449  0.1653827   0.15244435  0.14479673  0.50480118  0.27164839\n",
      "  0.35102403  0.20776152  0.12063681  0.27185013  0.14715004  0.56053924\n",
      "  0.22361079  0.18855676  0.51150213  0.31524914  0.26191714  0.29020876\n",
      "  0.28751473  0.42088586  0.0382585   0.2591008   0.12153055  0.76763478\n",
      "  0.26307496  0.21938167  0.14218894  0.77692039  0.20259428  0.28454115\n",
      "  0.35632907  0.5797855   0.23715373  0.27851906  0.35648446  0.52709853\n",
      "  0.36254911  0.3653931   0.42231278  0.29075735  0.1589254   0.29617985\n",
      "  0.23576851  0.27041984  0.20217893  0.1637806   0.67934154  0.08842771\n",
      "  0.29577434  0.31590789  0.27296651  0.2557782   0.16003355  0.17632455\n",
      "  0.4365566   0.18381429  0.55983225  0.60417695  0.28556178  0.26758018\n",
      "  0.66379519  0.52787525  0.36104741  0.53834929  0.3480149   0.30120129\n",
      "  0.26115319  0.33425327  0.50441446  0.03886891  0.23646833  0.26428864\n",
      "  0.28536259  0.0787156   0.19486527  0.15563467  0.15588966  0.38979407\n",
      "  0.40612748  0.09602497  0.28134823  0.11573316  0.22913896  0.25577081\n",
      "  0.55419287  0.10409281  0.5539821   0.37931963  0.1219556   0.21629099\n",
      "  0.49599741  0.38664051  0.38004679  0.29195777  0.29942806  0.18087305\n",
      "  0.17814919  0.55042207  0.47197978  0.14879647  0.33662391  0.1553048\n",
      "  0.17190052  0.33870383  0.32523017  0.42546924  0.55103833  0.07696666\n",
      "  0.05239036  0.40097674  0.52409958  0.17017665  0.30328143  0.18486268\n",
      "  0.31038192  0.14518999  0.2411898   0.41461328  0.04650376  0.22406401\n",
      "  0.33767566  0.19142132  0.31599808  0.26804948  0.07657745  0.20667703\n",
      "  0.12992858  0.20422727  0.38911342  0.21507861  0.45013345  0.46900516\n",
      "  0.34581301  0.47847354  0.19209708  0.56580875  0.38942756  0.23556121\n",
      "  0.31739178  0.35424386  0.43257777  0.24071995  0.32573535  0.31759628\n",
      "  0.28384361  0.26662812  0.16888931  0.41815062  0.34870505  0.48572443\n",
      "  0.29912082  0.21026667  0.22339619  0.02049565  0.32556472  0.08214456\n",
      "  0.32739946  0.31065325  0.12219133  0.11399292  0.566311  ]\n"
     ]
    }
   ],
   "source": [
    "print(Y[acceptedIdx])"
   ]
  },
  {
   "cell_type": "code",
   "execution_count": 29,
   "metadata": {},
   "outputs": [
    {
     "data": {
      "text/plain": [
       "[<matplotlib.lines.Line2D at 0x113fe8cf8>]"
      ]
     },
     "execution_count": 29,
     "metadata": {},
     "output_type": "execute_result"
    }
   ],
   "source": [
    "x = np.linspace(0.0, 1.0, 1000)\n",
    "y = f(x)\n",
    "plt.plot(x, y, 'r-', lw=2)"
   ]
  },
  {
   "cell_type": "code",
   "execution_count": 31,
   "metadata": {},
   "outputs": [
    {
     "data": {
      "text/plain": [
       "[<matplotlib.lines.Line2D at 0x113da56a0>]"
      ]
     },
     "execution_count": 31,
     "metadata": {},
     "output_type": "execute_result"
    }
   ],
   "source": [
    "y = M * g(x)\n",
    "plt.plot(x, y, 'g-', lw=2)"
   ]
  },
  {
   "cell_type": "code",
   "execution_count": 32,
   "metadata": {},
   "outputs": [
    {
     "data": {
      "text/plain": [
       "<matplotlib.collections.PathCollection at 0x113ffaac8>"
      ]
     },
     "execution_count": 32,
     "metadata": {},
     "output_type": "execute_result"
    }
   ],
   "source": [
    "plt.scatter(Y[acceptedIdx], U[acceptedIdx] * M * g(Y[acceptedIdx]), color='red')\n",
    "plt.scatter(Y[rejectedIdx], U[rejectedIdx] * M * g(Y[rejectedIdx]), color='blue')"
   ]
  },
  {
   "cell_type": "code",
   "execution_count": 33,
   "metadata": {},
   "outputs": [
    {
     "data": {
      "image/png": "[encoded data removed]",
      "text/plain": [
       "<matplotlib.figure.Figure at 0x113f69320>"
      ]
     },
     "metadata": {},
     "output_type": "display_data"
    }
   ],
   "source": [
    "plt.xlim((0.0, 1.0))\n",
    "plt.ylim((0.0, 3.0))\n",
    "\n",
    "plt.show()"
   ]
  },
  {
   "cell_type": "code",
   "execution_count": null,
   "metadata": {
    "collapsed": true
   },
   "outputs": [],
   "source": []
  }
 ],
 "metadata": {
  "kernelspec": {
   "display_name": "Python 3",
   "language": "python",
   "name": "python3"
  },
  "language_info": {
   "codemirror_mode": {
    "name": "ipython",
    "version": 3
   },
   "file_extension": ".py",
   "mimetype": "text/x-python",
   "name": "python",
   "nbconvert_exporter": "python",
   "pygments_lexer": "ipython3",
   "version": "3.5.3"
  }
 },
 "nbformat": 4,
 "nbformat_minor": 2
}
