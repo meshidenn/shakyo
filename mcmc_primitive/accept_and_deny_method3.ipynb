{
 "cells": [
  {
   "cell_type": "markdown",
   "metadata": {},
   "source": [
    "# 正規乱数を受理・棄却法で生成\n",
    "- 提案分布としてラプラス分布(二重指数分布)を使用"
   ]
  },
  {
   "cell_type": "code",
   "execution_count": 10,
   "metadata": {
    "collapsed": true
   },
   "outputs": [],
   "source": [
    "import numpy as np\n",
    "import matplotlib.pyplot as plt\n",
    "import scipy.optimize\n",
    "from scipy.stats import norm, laplace, uniform"
   ]
  },
  {
   "cell_type": "code",
   "execution_count": 11,
   "metadata": {
    "collapsed": true
   },
   "outputs": [],
   "source": [
    "np.random.seed()"
   ]
  },
  {
   "cell_type": "markdown",
   "metadata": {},
   "source": [
    "## 目標分布f"
   ]
  },
  {
   "cell_type": "code",
   "execution_count": 12,
   "metadata": {
    "collapsed": true
   },
   "outputs": [],
   "source": [
    "f = norm(loc=0.0, scale=1.0).pdf"
   ]
  },
  {
   "cell_type": "markdown",
   "metadata": {},
   "source": [
    "## 提案分布g\n",
    "- scale = 1/alphaになる\n",
    "- alpha=1が効率が良い"
   ]
  },
  {
   "cell_type": "code",
   "execution_count": 13,
   "metadata": {
    "collapsed": true
   },
   "outputs": [],
   "source": [
    "gv = laplace(loc=0.0, scale=1.0)\n",
    "g = gv.pdf"
   ]
  },
  {
   "cell_type": "markdown",
   "metadata": {},
   "source": [
    "### 分布の上限を指定する定数Mを設定"
   ]
  },
  {
   "cell_type": "code",
   "execution_count": 14,
   "metadata": {},
   "outputs": [
    {
     "name": "stdout",
     "output_type": "stream",
     "text": [
      "M=1.315489246958914\n"
     ]
    }
   ],
   "source": [
    "alpha = 1.0\n",
    "M = np.sqrt(2.0 / np.pi) * (1.0/alpha) * np.exp(alpha**2/2.0)\n",
    "print(\"M={}\".format(M))"
   ]
  },
  {
   "cell_type": "code",
   "execution_count": 15,
   "metadata": {
    "collapsed": true
   },
   "outputs": [],
   "source": [
    "Nsim = 100000"
   ]
  },
  {
   "cell_type": "markdown",
   "metadata": {},
   "source": [
    "### 提案分布gからの乱数Yを生成"
   ]
  },
  {
   "cell_type": "code",
   "execution_count": 16,
   "metadata": {
    "collapsed": true
   },
   "outputs": [],
   "source": [
    "Y = gv.rvs(size=Nsim)"
   ]
  },
  {
   "cell_type": "code",
   "execution_count": 17,
   "metadata": {},
   "outputs": [],
   "source": [
    "U = uniform.rvs(size=Nsim)"
   ]
  },
  {
   "cell_type": "markdown",
   "metadata": {},
   "source": [
    "### Yから受理の条件を満たすサンプルXを残して残りを棄却"
   ]
  },
  {
   "cell_type": "code",
   "execution_count": 18,
   "metadata": {},
   "outputs": [
    {
     "name": "stdout",
     "output_type": "stream",
     "text": [
      "サンプル数: 100000 => 76382\n",
      "実際の受理率: 0.76382\n",
      "理論的な受理率: 0.7601734505331403\n"
     ]
    }
   ],
   "source": [
    "X = Y[U <= f(Y)/(M*g(Y))]\n",
    "print(\"サンプル数: {} => {}\".format(len(Y), len(X)))\n",
    "print('実際の受理率: {}'.format(len(X)/float(len(Y))))\n",
    "print('理論的な受理率: {}'.format(1.0/M))"
   ]
  },
  {
   "cell_type": "markdown",
   "metadata": {},
   "source": [
    "## 目標分布を描画"
   ]
  },
  {
   "cell_type": "code",
   "execution_count": 19,
   "metadata": {},
   "outputs": [
    {
     "data": {
      "text/plain": [
       "[<matplotlib.lines.Line2D at 0x111b10240>]"
      ]
     },
     "execution_count": 19,
     "metadata": {},
     "output_type": "execute_result"
    }
   ],
   "source": [
    "x = np.linspace(-10, 10, 1000)\n",
    "y = f(x)\n",
    "plt.plot(x, y, 'r-', lw=2)"
   ]
  },
  {
   "cell_type": "code",
   "execution_count": 20,
   "metadata": {},
   "outputs": [
    {
     "data": {
      "text/plain": [
       "[<matplotlib.lines.Line2D at 0x10df2c550>]"
      ]
     },
     "execution_count": 20,
     "metadata": {},
     "output_type": "execute_result"
    }
   ],
   "source": [
    "y = M * g(x)\n",
    "plt.plot(x, y, 'g-', lw=2)"
   ]
  },
  {
   "cell_type": "code",
   "execution_count": 21,
   "metadata": {},
   "outputs": [
    {
     "data": {
      "text/plain": [
       "(array([  2.37242987e-04,   2.37242987e-04,   5.53566971e-04,\n",
       "          1.18621494e-03,   2.53059187e-03,   4.03313079e-03,\n",
       "          6.80096564e-03,   1.03596105e-02,   1.49463082e-02,\n",
       "          2.26171648e-02,   3.52701241e-02,   4.95837844e-02,\n",
       "          7.11728962e-02,   9.26038461e-02,   1.17751603e-01,\n",
       "          1.59269126e-01,   1.85603097e-01,   2.30362941e-01,\n",
       "          2.75676351e-01,   3.04619996e-01,   3.50724216e-01,\n",
       "          3.70652627e-01,   3.81486724e-01,   3.94772331e-01,\n",
       "          3.91134605e-01,   3.88366770e-01,   3.63456257e-01,\n",
       "          3.29214186e-01,   2.95367519e-01,   2.64367769e-01,\n",
       "          2.14863066e-01,   1.83863315e-01,   1.41554983e-01,\n",
       "          1.10238908e-01,   8.13743447e-02,   6.13668528e-02,\n",
       "          4.59460586e-02,   2.96553734e-02,   2.08773829e-02,\n",
       "          1.49463082e-02,   8.06626157e-03,   5.53566971e-03,\n",
       "          2.84691585e-03,   2.13518689e-03,   1.02805295e-03,\n",
       "          6.32647967e-04,   1.58161992e-04,   1.58161992e-04,\n",
       "          7.90809958e-05,   7.90809958e-05]),\n",
       " array([-3.94626837, -3.78071545, -3.61516253, -3.44960961, -3.28405669,\n",
       "        -3.11850377, -2.95295085, -2.78739793, -2.62184501, -2.45629209,\n",
       "        -2.29073917, -2.12518625, -1.95963333, -1.79408041, -1.62852749,\n",
       "        -1.46297457, -1.29742165, -1.13186873, -0.96631581, -0.80076289,\n",
       "        -0.63520997, -0.46965705, -0.30410413, -0.13855121,  0.02700171,\n",
       "         0.19255463,  0.35810755,  0.52366047,  0.68921339,  0.85476631,\n",
       "         1.02031923,  1.18587215,  1.35142507,  1.51697799,  1.68253091,\n",
       "         1.84808383,  2.01363675,  2.17918967,  2.34474259,  2.51029551,\n",
       "         2.67584843,  2.84140135,  3.00695427,  3.17250719,  3.33806011,\n",
       "         3.50361303,  3.66916595,  3.83471887,  4.00027179,  4.16582471,\n",
       "         4.33137763]),\n",
       " <a list of 50 Patch objects>)"
      ]
     },
     "execution_count": 21,
     "metadata": {},
     "output_type": "execute_result"
    }
   ],
   "source": [
    "plt.hist(X, bins=50, normed=True)"
   ]
  },
  {
   "cell_type": "code",
   "execution_count": 22,
   "metadata": {},
   "outputs": [
    {
     "data": {
      "image/png": "[encoded data removed]",
      "text/plain": [
       "<matplotlib.figure.Figure at 0x10e0c8e48>"
      ]
     },
     "metadata": {},
     "output_type": "display_data"
    }
   ],
   "source": [
    "plt.show()"
   ]
  },
  {
   "cell_type": "code",
   "execution_count": null,
   "metadata": {
    "collapsed": true
   },
   "outputs": [],
   "source": []
  }
 ],
 "metadata": {
  "kernelspec": {
   "display_name": "Python 3",
   "language": "python",
   "name": "python3"
  },
  "language_info": {
   "codemirror_mode": {
    "name": "ipython",
    "version": 3
   },
   "file_extension": ".py",
   "mimetype": "text/x-python",
   "name": "python",
   "nbconvert_exporter": "python",
   "pygments_lexer": "ipython3",
   "version": "3.5.3"
  }
 },
 "nbformat": 4,
 "nbformat_minor": 2
}
