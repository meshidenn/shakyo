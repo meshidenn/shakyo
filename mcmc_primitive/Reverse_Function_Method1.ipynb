{
 "cells": [
  {
   "cell_type": "code",
   "execution_count": 1,
   "metadata": {
    "collapsed": true
   },
   "outputs": [],
   "source": [
    "import numpy as np\n",
    "import matplotlib.pyplot as plt\n",
    "import scipy.stats"
   ]
  },
  {
   "cell_type": "code",
   "execution_count": 2,
   "metadata": {
    "collapsed": true
   },
   "outputs": [],
   "source": [
    "nbins = 50\n",
    "scale = 1.0"
   ]
  },
  {
   "cell_type": "markdown",
   "metadata": {},
   "source": [
    "## 一様乱数からのサンプリング"
   ]
  },
  {
   "cell_type": "code",
   "execution_count": 4,
   "metadata": {
    "collapsed": true
   },
   "outputs": [],
   "source": [
    "np.random.seed()\n",
    "N = 10000\n",
    "U = scipy.stats.uniform(loc=0.0, scale=1.0).rvs(size=N)"
   ]
  },
  {
   "cell_type": "markdown",
   "metadata": {},
   "source": [
    "## 指数分布の累積分布関数の逆関数を用いた変換"
   ]
  },
  {
   "cell_type": "code",
   "execution_count": 5,
   "metadata": {
    "collapsed": true
   },
   "outputs": [],
   "source": [
    "X1 =  - scale * np.log(1-U)"
   ]
  },
  {
   "cell_type": "markdown",
   "metadata": {},
   "source": [
    "## 生成した元の一様乱数を描画"
   ]
  },
  {
   "cell_type": "code",
   "execution_count": 6,
   "metadata": {
    "collapsed": false
   },
   "outputs": [
    {
     "data": {
      "text/plain": [
       "(array([ 0.95019297,  0.95519398,  1.1202275 ,  0.98520008,  1.00520414,\n",
       "         1.00020312,  1.06521633,  1.05521429,  0.87517773,  0.98520008,\n",
       "         0.94519195,  1.0902214 ,  1.06021531,  0.94019094,  0.9301889 ,\n",
       "         1.01020515,  1.04021125,  1.05021328,  1.07021734,  1.08522039,\n",
       "         1.07521836,  1.06521633,  1.05521429,  1.02020719,  0.91018484,\n",
       "         0.97019703,  1.05521429,  0.9301889 ,  0.95519398,  0.960195  ,\n",
       "         0.91518586,  1.05021328,  1.0252082 ,  1.05521429,  0.89518179,\n",
       "         1.06521633,  1.04521226,  0.97019703,  0.9301889 ,  1.0252082 ,\n",
       "         1.02020719,  0.97519804,  0.89518179,  0.97519804,  0.97519804,\n",
       "         1.0252082 ,  1.00520414,  0.98520008,  1.0252082 ,  0.93518992]),\n",
       " array([  5.03314826e-05,   2.00462699e-02,   4.00422082e-02,\n",
       "          6.00381466e-02,   8.00340850e-02,   1.00030023e-01,\n",
       "          1.20025962e-01,   1.40021900e-01,   1.60017838e-01,\n",
       "          1.80013777e-01,   2.00009715e-01,   2.20005654e-01,\n",
       "          2.40001592e-01,   2.59997530e-01,   2.79993469e-01,\n",
       "          2.99989407e-01,   3.19985345e-01,   3.39981284e-01,\n",
       "          3.59977222e-01,   3.79973160e-01,   3.99969099e-01,\n",
       "          4.19965037e-01,   4.39960976e-01,   4.59956914e-01,\n",
       "          4.79952852e-01,   4.99948791e-01,   5.19944729e-01,\n",
       "          5.39940667e-01,   5.59936606e-01,   5.79932544e-01,\n",
       "          5.99928483e-01,   6.19924421e-01,   6.39920359e-01,\n",
       "          6.59916298e-01,   6.79912236e-01,   6.99908174e-01,\n",
       "          7.19904113e-01,   7.39900051e-01,   7.59895989e-01,\n",
       "          7.79891928e-01,   7.99887866e-01,   8.19883805e-01,\n",
       "          8.39879743e-01,   8.59875681e-01,   8.79871620e-01,\n",
       "          8.99867558e-01,   9.19863496e-01,   9.39859435e-01,\n",
       "          9.59855373e-01,   9.79851312e-01,   9.99847250e-01]),\n",
       " <a list of 50 Patch objects>)"
      ]
     },
     "execution_count": 6,
     "metadata": {},
     "output_type": "execute_result"
    }
   ],
   "source": [
    "plt.figure(1)\n",
    "plt.hist(U, nbins, normed=True)"
   ]
  },
  {
   "cell_type": "code",
   "execution_count": 7,
   "metadata": {
    "collapsed": false
   },
   "outputs": [
    {
     "data": {
      "image/png": "[encoded data removed]",
      "text/plain": [
       "<matplotlib.figure.Figure at 0x10bbca358>"
      ]
     },
     "metadata": {},
     "output_type": "display_data"
    },
    {
     "data": {
      "image/png": "[encoded data removed]",
      "text/plain": [
       "<matplotlib.figure.Figure at 0x10f16ee80>"
      ]
     },
     "metadata": {},
     "output_type": "display_data"
    }
   ],
   "source": [
    "plt.figure(2)\n",
    "rv = scipy.stats.expon(scale=scale)\n",
    "plt.hist(X1, nbins, normed=True)\n",
    "x = np.linspace(rv.ppf(0.01), rv.ppf(0.99), 1000)\n",
    "y = rv.pdf(x)\n",
    "plt.plot(x, y , 'r-', lw=2)\n",
    "plt.xlim((rv.ppf(0.01), rv.ppf(0.99)))\n",
    "\n",
    "plt.show()"
   ]
  },
  {
   "cell_type": "markdown",
   "metadata": {},
   "source": [
    "## scipyの指数分布からサンプリング"
   ]
  },
  {
   "cell_type": "code",
   "execution_count": 13,
   "metadata": {
    "collapsed": false
   },
   "outputs": [
    {
     "data": {
      "image/png": "[encoded data removed]",
      "text/plain": [
       "<matplotlib.figure.Figure at 0x10f26dcf8>"
      ]
     },
     "metadata": {},
     "output_type": "display_data"
    }
   ],
   "source": [
    "plt.figure(3)\n",
    "rv = scipy.stats.expon(scale=scale)\n",
    "X2 = rv.rvs(N)\n",
    "plt.hist(X2, nbins, normed=True)\n",
    "\n",
    "x = np.linspace(rv.ppf(0.01), rv.ppf(0.99), 1000)\n",
    "y = rv.pdf(x)\n",
    "plt.plot(x, y, 'r-', lw=2)\n",
    "plt.xlim((rv.ppf(0.01), rv.ppf(0.99)))\n",
    "\n",
    "plt.show()"
   ]
  },
  {
   "cell_type": "markdown",
   "metadata": {},
   "source": [
    "## 指数分布から一様分布へ変換"
   ]
  },
  {
   "cell_type": "code",
   "execution_count": 15,
   "metadata": {
    "collapsed": false
   },
   "outputs": [
    {
     "data": {
      "text/plain": [
       "(array([  9.34067501e-01,   7.50502931e-01,   6.37331854e-01,\n",
       "          4.86256589e-01,   4.54308773e-01,   3.62797232e-01,\n",
       "          2.95111182e-01,   2.49626155e-01,   2.17678339e-01,\n",
       "          1.86272012e-01,   1.34289125e-01,   1.33206148e-01,\n",
       "          9.58434479e-02,   7.79743305e-02,   6.93105160e-02,\n",
       "          4.54850261e-02,   4.49435377e-02,   3.35722812e-02,\n",
       "          3.51967464e-02,   2.92403739e-02,   2.76159087e-02,\n",
       "          1.35372102e-02,   1.94935826e-02,   1.40786986e-02,\n",
       "          1.13712565e-02,   1.13712565e-02,   9.20530291e-03,\n",
       "          7.58083769e-03,   4.87339566e-03,   3.79041885e-03,\n",
       "          3.24893044e-03,   2.70744203e-03,   2.16595363e-03,\n",
       "          3.24893044e-03,   5.41488406e-04,   3.24893044e-03,\n",
       "          5.41488406e-04,   1.08297681e-03,   0.00000000e+00,\n",
       "          5.41488406e-04,   0.00000000e+00,   5.41488406e-04,\n",
       "          0.00000000e+00,   0.00000000e+00,   0.00000000e+00,\n",
       "          0.00000000e+00,   0.00000000e+00,   5.41488406e-04,\n",
       "          0.00000000e+00,   5.41488406e-04]),\n",
       " array([  1.78787869e-05,   1.84694040e-01,   3.69370200e-01,\n",
       "          5.54046361e-01,   7.38722522e-01,   9.23398683e-01,\n",
       "          1.10807484e+00,   1.29275100e+00,   1.47742716e+00,\n",
       "          1.66210333e+00,   1.84677949e+00,   2.03145565e+00,\n",
       "          2.21613181e+00,   2.40080797e+00,   2.58548413e+00,\n",
       "          2.77016029e+00,   2.95483645e+00,   3.13951261e+00,\n",
       "          3.32418877e+00,   3.50886493e+00,   3.69354109e+00,\n",
       "          3.87821725e+00,   4.06289342e+00,   4.24756958e+00,\n",
       "          4.43224574e+00,   4.61692190e+00,   4.80159806e+00,\n",
       "          4.98627422e+00,   5.17095038e+00,   5.35562654e+00,\n",
       "          5.54030270e+00,   5.72497886e+00,   5.90965502e+00,\n",
       "          6.09433118e+00,   6.27900734e+00,   6.46368351e+00,\n",
       "          6.64835967e+00,   6.83303583e+00,   7.01771199e+00,\n",
       "          7.20238815e+00,   7.38706431e+00,   7.57174047e+00,\n",
       "          7.75641663e+00,   7.94109279e+00,   8.12576895e+00,\n",
       "          8.31044511e+00,   8.49512127e+00,   8.67979743e+00,\n",
       "          8.86447360e+00,   9.04914976e+00,   9.23382592e+00]),\n",
       " <a list of 50 Patch objects>)"
      ]
     },
     "execution_count": 15,
     "metadata": {},
     "output_type": "execute_result"
    }
   ],
   "source": [
    "plt.figure(1)\n",
    "X = scipy.stats.expon(scale=1).rvs(size=N)\n",
    "plt.hist(X, nbins, normed=True)"
   ]
  },
  {
   "cell_type": "code",
   "execution_count": 17,
   "metadata": {
    "collapsed": false
   },
   "outputs": [
    {
     "data": {
      "text/plain": [
       "(array([ 1.13013059,  0.89010286,  0.99511499,  0.88510228,  0.99511499,\n",
       "         1.03511962,  1.06512308,  1.17013522,  1.04012019,  0.98511384,\n",
       "         0.95511037,  0.90510459,  1.07512424,  0.88510228,  1.03511962,\n",
       "         1.06012251,  1.02511846,  1.11512886,  0.9251069 ,  0.99511499,\n",
       "         1.01011673,  0.90510459,  0.86009939,  0.94510921,  0.98011326,\n",
       "         0.95010979,  0.99511499,  1.05512193,  1.03011904,  1.08012482,\n",
       "         0.93010748,  1.03511962,  1.04512077,  1.07012366,  0.95511037,\n",
       "         0.94010864,  1.02011788,  1.02511846,  0.90010401,  1.00011557,\n",
       "         1.11512886,  1.07512424,  0.93010748,  1.13513117,  0.95010979,\n",
       "         0.98011326,  1.00011557,  0.84009708,  1.05012135,  1.03011904]),\n",
       " array([  1.78786270e-05,   2.00155675e-02,   4.00132563e-02,\n",
       "          6.00109452e-02,   8.00086340e-02,   1.00006323e-01,\n",
       "          1.20004012e-01,   1.40001701e-01,   1.59999389e-01,\n",
       "          1.79997078e-01,   1.99994767e-01,   2.19992456e-01,\n",
       "          2.39990145e-01,   2.59987834e-01,   2.79985523e-01,\n",
       "          2.99983211e-01,   3.19980900e-01,   3.39978589e-01,\n",
       "          3.59976278e-01,   3.79973967e-01,   3.99971656e-01,\n",
       "          4.19969345e-01,   4.39967033e-01,   4.59964722e-01,\n",
       "          4.79962411e-01,   4.99960100e-01,   5.19957789e-01,\n",
       "          5.39955478e-01,   5.59953166e-01,   5.79950855e-01,\n",
       "          5.99948544e-01,   6.19946233e-01,   6.39943922e-01,\n",
       "          6.59941611e-01,   6.79939300e-01,   6.99936988e-01,\n",
       "          7.19934677e-01,   7.39932366e-01,   7.59930055e-01,\n",
       "          7.79927744e-01,   7.99925433e-01,   8.19923122e-01,\n",
       "          8.39920810e-01,   8.59918499e-01,   8.79916188e-01,\n",
       "          8.99913877e-01,   9.19911566e-01,   9.39909255e-01,\n",
       "          9.59906943e-01,   9.79904632e-01,   9.99902321e-01]),\n",
       " <a list of 50 Patch objects>)"
      ]
     },
     "execution_count": 17,
     "metadata": {},
     "output_type": "execute_result"
    }
   ],
   "source": [
    "plt.figure(2)\n",
    "U = scipy.stats.expon.cdf(X)\n",
    "plt.hist(U, nbins, normed=True)"
   ]
  },
  {
   "cell_type": "code",
   "execution_count": 18,
   "metadata": {
    "collapsed": false
   },
   "outputs": [
    {
     "data": {
      "image/png": "[encoded data removed]",
      "text/plain": [
       "<matplotlib.figure.Figure at 0x10fa97c18>"
      ]
     },
     "metadata": {},
     "output_type": "display_data"
    },
    {
     "data": {
      "image/png": "[encoded data removed]",
      "text/plain": [
       "<matplotlib.figure.Figure at 0x10f9be7b8>"
      ]
     },
     "metadata": {},
     "output_type": "display_data"
    }
   ],
   "source": [
    "plt.show()"
   ]
  },
  {
   "cell_type": "code",
   "execution_count": null,
   "metadata": {
    "collapsed": true
   },
   "outputs": [],
   "source": []
  }
 ],
 "metadata": {
  "kernelspec": {
   "display_name": "Python 3",
   "language": "python",
   "name": "python3"
  },
  "language_info": {
   "codemirror_mode": {
    "name": "ipython",
    "version": 3
   },
   "file_extension": ".py",
   "mimetype": "text/x-python",
   "name": "python",
   "nbconvert_exporter": "python",
   "pygments_lexer": "ipython3",
   "version": "3.6.0"
  }
 },
 "nbformat": 4,
 "nbformat_minor": 2
}
