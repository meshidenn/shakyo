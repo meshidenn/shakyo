{
 "cells": [
  {
   "cell_type": "code",
   "execution_count": 1,
   "metadata": {
    "collapsed": true
   },
   "outputs": [],
   "source": [
    "import numpy as np\n",
    "import tensorflow as tf\n",
    "import matplotlib.pyplot as plt\n",
    "import scipy\n",
    "%matplotlib inline"
   ]
  },
  {
   "cell_type": "markdown",
   "metadata": {},
   "source": [
    "# 3.3"
   ]
  },
  {
   "cell_type": "code",
   "execution_count": 2,
   "metadata": {
    "collapsed": true
   },
   "outputs": [],
   "source": [
    "rng = np.random.RandomState(123)\n",
    "\n",
    "d = 2\n",
    "N = 10\n",
    "mean = 5\n",
    "\n",
    "x1 = rng.randn(N, d) + np.array([0,0])\n",
    "x2 = rng.randn(N, d) + np.array([mean, mean])"
   ]
  },
  {
   "cell_type": "code",
   "execution_count": 3,
   "metadata": {
    "collapsed": true
   },
   "outputs": [],
   "source": [
    "x = np.concatenate((x1, x2), axis = 0)\n",
    "x1x = np.array([a[0] for a in x1])\n",
    "x1y = np.array([a[1] for a in x1])\n",
    "x2x = np.array([a[0] for a in x2])\n",
    "x2y = np.array([a[1] for a in x2])\n"
   ]
  },
  {
   "cell_type": "code",
   "execution_count": 4,
   "metadata": {},
   "outputs": [
    {
     "data": {
      "text/plain": [
       "[<matplotlib.lines.Line2D at 0x115b94b00>]"
      ]
     },
     "execution_count": 4,
     "metadata": {},
     "output_type": "execute_result"
    },
    {
     "data": {
      "image/png": "[encoded data removed]",
      "text/plain": [
       "<matplotlib.figure.Figure at 0x115b94ba8>"
      ]
     },
     "metadata": {},
     "output_type": "display_data"
    }
   ],
   "source": [
    "plt.plot(x1x,x1y,'o')\n",
    "plt.plot(x2x, x2y, 'o')"
   ]
  },
  {
   "cell_type": "code",
   "execution_count": 5,
   "metadata": {
    "collapsed": true
   },
   "outputs": [],
   "source": [
    "w = np.zeros(d)\n",
    "b = 0"
   ]
  },
  {
   "cell_type": "code",
   "execution_count": 6,
   "metadata": {
    "collapsed": true
   },
   "outputs": [],
   "source": [
    "def y(x):\n",
    "    return step(np.dot(w,x) + b)\n",
    "\n",
    "def step(x):\n",
    "    return 1 * (x>0)"
   ]
  },
  {
   "cell_type": "code",
   "execution_count": 7,
   "metadata": {
    "collapsed": true
   },
   "outputs": [],
   "source": [
    "def t(i):\n",
    "    if i < N:\n",
    "        return 0\n",
    "    else:\n",
    "        return 1"
   ]
  },
  {
   "cell_type": "code",
   "execution_count": 8,
   "metadata": {
    "collapsed": true
   },
   "outputs": [],
   "source": [
    "while True:\n",
    "    classified = True\n",
    "    for i in range(N * 2):\n",
    "        delta_w = (t(i) - y(x[i])) * x[i]\n",
    "        delta_b = (t(i) - y(x[i]))\n",
    "        w += delta_w\n",
    "        b += delta_b\n",
    "        classified *= all(delta_w == 0) * (delta_b == 0)\n",
    "    if classified:\n",
    "        break"
   ]
  },
  {
   "cell_type": "code",
   "execution_count": 9,
   "metadata": {},
   "outputs": [
    {
     "data": {
      "text/plain": [
       "[<matplotlib.lines.Line2D at 0x119180f60>]"
      ]
     },
     "execution_count": 9,
     "metadata": {},
     "output_type": "execute_result"
    },
    {
     "data": {
      "image/png": "[encoded data removed]",
      "text/plain": [
       "<matplotlib.figure.Figure at 0x118f6ab00>"
      ]
     },
     "metadata": {},
     "output_type": "display_data"
    }
   ],
   "source": [
    "xx = np.linspace(-4,8,100)\n",
    "yy = np.array([-w[0]/w[1]*a - b for a in xx])\n",
    "plt.plot(x1x,x1y,'o')\n",
    "plt.plot(x2x, x2y, 'o')\n",
    "plt.plot(xx,yy,'r-')"
   ]
  },
  {
   "cell_type": "markdown",
   "metadata": {},
   "source": [
    "# 3.4"
   ]
  },
  {
   "cell_type": "code",
   "execution_count": 10,
   "metadata": {},
   "outputs": [
    {
     "name": "stdout",
     "output_type": "stream",
     "text": [
      "<tf.Variable 'Variable:0' shape=(2, 1) dtype=float32_ref>\n"
     ]
    }
   ],
   "source": [
    "w = tf.Variable(tf.zeros([2,1]))\n",
    "b = tf.Variable(tf.zeros([1]))\n",
    "print(w)"
   ]
  },
  {
   "cell_type": "code",
   "execution_count": 11,
   "metadata": {
    "collapsed": true
   },
   "outputs": [],
   "source": [
    "def y(x):\n",
    "    return sigmoid(np.dot(w,x) + b)\n",
    "\n",
    "def sigmoid(x):\n",
    "    return 1/(1+np.exp(-x))"
   ]
  },
  {
   "cell_type": "code",
   "execution_count": 12,
   "metadata": {
    "collapsed": true
   },
   "outputs": [],
   "source": [
    "x = tf.placeholder(tf.float32, shape=[None, 2])\n",
    "t = tf.placeholder(tf.float32, shape=[None, 1])\n",
    "y = tf.nn.sigmoid(tf.matmul(x, w) + b)"
   ]
  },
  {
   "cell_type": "code",
   "execution_count": 13,
   "metadata": {
    "collapsed": true
   },
   "outputs": [],
   "source": [
    "cross_entropy = -tf.reduce_sum(t * tf.log(y) + (1-t) * tf.log(1-y))\n",
    "train_step = tf.train.GradientDescentOptimizer(0.1).minimize(cross_entropy)\n",
    "correct_prediction = tf.equal(tf.to_float(tf.greater(y, 0.5)),t)"
   ]
  },
  {
   "cell_type": "code",
   "execution_count": 14,
   "metadata": {
    "collapsed": true
   },
   "outputs": [],
   "source": [
    "X = np.array([[0,0], [0,1], [1,0], [1,1]])\n",
    "Y = np.array([[0], [1], [1], [1]])"
   ]
  },
  {
   "cell_type": "code",
   "execution_count": 15,
   "metadata": {
    "collapsed": true
   },
   "outputs": [],
   "source": [
    "init = tf.global_variables_initializer()\n",
    "sess = tf.Session()\n",
    "sess.run(init)"
   ]
  },
  {
   "cell_type": "code",
   "execution_count": 16,
   "metadata": {
    "collapsed": true
   },
   "outputs": [],
   "source": [
    "for epoch in range(200):\n",
    "    sess.run(train_step, feed_dict={x:X,t:Y})"
   ]
  },
  {
   "cell_type": "code",
   "execution_count": 17,
   "metadata": {},
   "outputs": [
    {
     "name": "stdout",
     "output_type": "stream",
     "text": [
      "[[ True]\n",
      " [ True]\n",
      " [ True]\n",
      " [ True]]\n"
     ]
    }
   ],
   "source": [
    "classified = correct_prediction.eval(session=sess, feed_dict={\n",
    "    x:X,\n",
    "    t:Y\n",
    "})\n",
    "print(classified)"
   ]
  },
  {
   "cell_type": "code",
   "execution_count": 18,
   "metadata": {},
   "outputs": [
    {
     "name": "stdout",
     "output_type": "stream",
     "text": [
      "[[ 0.22355038]\n",
      " [ 0.91425949]\n",
      " [ 0.91425949]\n",
      " [ 0.99747425]]\n"
     ]
    }
   ],
   "source": [
    "prob = y.eval(session=sess, feed_dict={x:X,t:Y})\n",
    "print(prob)"
   ]
  },
  {
   "cell_type": "code",
   "execution_count": 19,
   "metadata": {},
   "outputs": [
    {
     "name": "stdout",
     "output_type": "stream",
     "text": [
      "w: [[ 3.61188436]\n",
      " [ 3.61188436]]\n",
      "b: [-1.24509501]\n"
     ]
    }
   ],
   "source": [
    "print('w:', sess.run(w))\n",
    "print('b:', sess.run(b))"
   ]
  },
  {
   "cell_type": "markdown",
   "metadata": {},
   "source": [
    "# 3.5"
   ]
  },
  {
   "cell_type": "code",
   "execution_count": 20,
   "metadata": {
    "collapsed": true
   },
   "outputs": [],
   "source": [
    "from sklearn.utils import shuffle"
   ]
  },
  {
   "cell_type": "markdown",
   "metadata": {},
   "source": [
    "## preset"
   ]
  },
  {
   "cell_type": "code",
   "execution_count": 21,
   "metadata": {
    "collapsed": true
   },
   "outputs": [],
   "source": [
    "M = 2\n",
    "K = 3\n",
    "n = 100\n",
    "N = n * K"
   ]
  },
  {
   "cell_type": "code",
   "execution_count": 22,
   "metadata": {},
   "outputs": [
    {
     "data": {
      "text/plain": [
       "[<matplotlib.lines.Line2D at 0x11ad5da20>]"
      ]
     },
     "execution_count": 22,
     "metadata": {},
     "output_type": "execute_result"
    },
    {
     "data": {
      "image/png": "[encoded data removed]",
      "text/plain": [
       "<matplotlib.figure.Figure at 0x11ac8b8d0>"
      ]
     },
     "metadata": {},
     "output_type": "display_data"
    }
   ],
   "source": [
    "X1 = np.random.randn(n, M) + np.array([0, 10])\n",
    "X2 = np.random.randn(n, M) + np.array([5, 5])\n",
    "X3 = np.random.randn(n, M) + np.array([10, 0])\n",
    "Y1 = np.array([[1, 0, 0] for i  in range(n)])\n",
    "Y2 = np.array([[0, 1, 0] for i  in range(n)])\n",
    "Y3 = np.array([[0, 0, 1] for i  in range(n)])\n",
    "\n",
    "X1x = np.array([a[0] for a in X1])\n",
    "X1y = np.array([a[1] for a in X1])\n",
    "X2x = np.array([a[0] for a in X2])\n",
    "X2y = np.array([a[1] for a in X2])\n",
    "X3x = np.array([a[0] for a in X3])\n",
    "X3y = np.array([a[1] for a in X3])\n",
    "\n",
    "X = np.concatenate((X1, X2, X3), axis = 0)\n",
    "Y = np.concatenate((Y1, Y2, Y3), axis = 0)\n",
    "\n",
    "plt.plot(X1x, X1y, 'o')\n",
    "plt.plot(X2x, X2y, '^')\n",
    "plt.plot(X3x, X3y, 'x')"
   ]
  },
  {
   "cell_type": "markdown",
   "metadata": {},
   "source": [
    "## modeling"
   ]
  },
  {
   "cell_type": "code",
   "execution_count": 23,
   "metadata": {
    "collapsed": true
   },
   "outputs": [],
   "source": [
    "W = tf.Variable(tf.zeros([M, K]))\n",
    "b = tf.Variable(tf.zeros([K]))\n",
    "\n",
    "x = tf.placeholder(tf.float32, shape=[None, M])\n",
    "t = tf.placeholder(tf.float32, shape=[None, K])\n",
    "y = tf.nn.sigmoid(tf.matmul(x, W) + b)"
   ]
  },
  {
   "cell_type": "code",
   "execution_count": 24,
   "metadata": {
    "collapsed": true
   },
   "outputs": [],
   "source": [
    "cross_entropy = tf.reduce_mean(-tf.reduce_sum(t * tf.log(y), reduction_indices=[1]))\n",
    "train_step = tf.train.GradientDescentOptimizer(0.1).minimize(cross_entropy)\n",
    "correct_prediction = tf.equal(tf.argmax(y, 1), tf.argmax(t,1))"
   ]
  },
  {
   "cell_type": "code",
   "execution_count": 25,
   "metadata": {
    "collapsed": true
   },
   "outputs": [],
   "source": [
    "init_op = tf.global_variables_initializer()\n",
    "sess = tf.Session()\n",
    "sess.run(init_op)"
   ]
  },
  {
   "cell_type": "markdown",
   "metadata": {},
   "source": [
    "## learning"
   ]
  },
  {
   "cell_type": "code",
   "execution_count": 26,
   "metadata": {
    "collapsed": true
   },
   "outputs": [],
   "source": [
    "batch_size = 50\n",
    "n_batches = N // batch_size"
   ]
  },
  {
   "cell_type": "code",
   "execution_count": 27,
   "metadata": {
    "collapsed": true
   },
   "outputs": [],
   "source": [
    "for epoch in range(20):\n",
    "    X_, Y_ = shuffle(X, Y)\n",
    "    \n",
    "    for i in range(n_batches):\n",
    "        start = i * batch_size\n",
    "        end = start + batch_size\n",
    "        XX_ = X_[start:end]\n",
    "        YY_ = Y_[start:end]\n",
    "        \n",
    "        sess.run(train_step, feed_dict={x: XX_, t: YY_})"
   ]
  },
  {
   "cell_type": "code",
   "execution_count": 28,
   "metadata": {},
   "outputs": [
    {
     "name": "stdout",
     "output_type": "stream",
     "text": [
      "classified:\n",
      "[ True  True  True  True  True  True  True  True  True  True]\n",
      "\n",
      "output probability:\n",
      "[[ 0.99627614  0.99550736  0.65083408]\n",
      " [ 0.67438281  0.99866533  0.99882179]\n",
      " [ 0.97163075  0.99690419  0.95486432]\n",
      " [ 0.86620653  0.98695135  0.95463347]\n",
      " [ 0.99542612  0.99295956  0.5781638 ]\n",
      " [ 0.99845505  0.99483716  0.40221781]\n",
      " [ 0.96044815  0.99769956  0.97641653]\n",
      " [ 0.95472509  0.99589181  0.96104598]\n",
      " [ 0.58342004  0.99575788  0.99703622]\n",
      " [ 0.99676728  0.99551278  0.6190331 ]]\n"
     ]
    }
   ],
   "source": [
    "X_, Y_ = shuffle(X, Y)\n",
    "\n",
    "classified = correct_prediction.eval(session=sess,feed_dict={\n",
    "    x: X_[0:10],\n",
    "    t: Y_[0:10]\n",
    "})\n",
    "\n",
    "prob = y.eval(session=sess, feed_dict={\n",
    "    x:X_[0:10]\n",
    "})\n",
    "\n",
    "print('classified:')\n",
    "print(classified)\n",
    "print()\n",
    "print('output probability:')\n",
    "print(prob)"
   ]
  },
  {
   "cell_type": "code",
   "execution_count": 29,
   "metadata": {},
   "outputs": [
    {
     "name": "stdout",
     "output_type": "stream",
     "text": [
      "[[  5.85202593e-03   5.36699355e-01   5.99104345e-01]\n",
      " [  6.08671486e-01   5.27494013e-01  -1.11747693e-04]] [ 0.0633411   0.11235175  0.06079739]\n"
     ]
    }
   ],
   "source": [
    "ww = sess.run(W)\n",
    "bb = sess.run(b)\n",
    "print(ww,bb)\n",
    "\n",
    "\n"
   ]
  },
  {
   "cell_type": "code",
   "execution_count": 30,
   "metadata": {},
   "outputs": [
    {
     "data": {
      "text/plain": [
       "(-4, 14)"
      ]
     },
     "execution_count": 30,
     "metadata": {},
     "output_type": "execute_result"
    },
    {
     "data": {
      "image/png": "[encoded data removed]",
      "text/plain": [
       "<matplotlib.figure.Figure at 0x11aec27b8>"
      ]
     },
     "metadata": {},
     "output_type": "display_data"
    }
   ],
   "source": [
    "xx = np.linspace(-4,14,100)\n",
    "yy1 = np.array([-(ww[0][0]-ww[0][1])/(ww[1][0]-ww[1][1])*a + bb[1] - bb[0] for a in xx])\n",
    "yy2 = np.array([-(ww[0][1]-ww[0][2])/(ww[1][1]-ww[1][2])*a + bb[2] - bb[1] for a in xx])\n",
    "\n",
    "plt.plot(X1x, X1y, 'o')\n",
    "plt.plot(X2x, X2y, '^')\n",
    "plt.plot(X3x, X3y, 'x')\n",
    "plt.plot(xx, yy1, 'r-')\n",
    "plt.plot(xx, yy2, 'b-')\n",
    "\n",
    "plt.xlim(-4,14)\n",
    "plt.ylim(-4,14)"
   ]
  },
  {
   "cell_type": "markdown",
   "metadata": {
    "collapsed": true
   },
   "source": [
    "# 3.6"
   ]
  },
  {
   "cell_type": "code",
   "execution_count": 31,
   "metadata": {},
   "outputs": [
    {
     "name": "stderr",
     "output_type": "stream",
     "text": [
      "Using TensorFlow backend.\n"
     ]
    }
   ],
   "source": [
    "from keras.models import Sequential\n",
    "from keras.layers import Dense, Activation\n",
    "from keras.optimizers import SGD"
   ]
  },
  {
   "cell_type": "code",
   "execution_count": 33,
   "metadata": {},
   "outputs": [
    {
     "name": "stderr",
     "output_type": "stream",
     "text": [
      "/Users/hiroki/.pyenv/versions/anaconda3-4.0.0/envs/py3_personal/lib/python3.5/site-packages/ipykernel/__main__.py:7: UserWarning: Update your `Dense` call to the Keras 2 API: `Dense(input_dim=2, units=1)`\n"
     ]
    },
    {
     "name": "stdout",
     "output_type": "stream",
     "text": [
      "Epoch 1/200\n",
      "4/4 [==============================] - 0s - loss: 0.8427     \n",
      "Epoch 2/200\n",
      "4/4 [==============================] - 0s - loss: 0.8205     \n",
      "Epoch 3/200\n",
      "4/4 [==============================] - 0s - loss: 0.8049     \n",
      "Epoch 4/200\n",
      "4/4 [==============================] - 0s - loss: 0.7924     \n",
      "Epoch 5/200\n",
      "4/4 [==============================] - 0s - loss: 0.7822     \n",
      "Epoch 6/200\n",
      "4/4 [==============================] - 0s - loss: 0.7754     \n",
      "Epoch 7/200\n",
      "4/4 [==============================] - 0s - loss: 0.7688     \n",
      "Epoch 8/200\n",
      "4/4 [==============================] - 0s - loss: 0.7622     \n",
      "Epoch 9/200\n",
      "4/4 [==============================] - 0s - loss: 0.7578     \n",
      "Epoch 10/200\n",
      "4/4 [==============================] - 0s - loss: 0.7555     \n",
      "Epoch 11/200\n",
      "4/4 [==============================] - 0s - loss: 0.7520     \n",
      "Epoch 12/200\n",
      "4/4 [==============================] - 0s - loss: 0.7497     \n",
      "Epoch 13/200\n",
      "4/4 [==============================] - 0s - loss: 0.7468     \n",
      "Epoch 14/200\n",
      "4/4 [==============================] - 0s - loss: 0.7454     \n",
      "Epoch 15/200\n",
      "4/4 [==============================] - 0s - loss: 0.7439     \n",
      "Epoch 16/200\n",
      "4/4 [==============================] - 0s - loss: 0.7425     \n",
      "Epoch 17/200\n",
      "4/4 [==============================] - 0s - loss: 0.7422     \n",
      "Epoch 18/200\n",
      "4/4 [==============================] - 0s - loss: 0.7404     \n",
      "Epoch 19/200\n",
      "4/4 [==============================] - 0s - loss: 0.7394     \n",
      "Epoch 20/200\n",
      "4/4 [==============================] - 0s - loss: 0.7393     \n",
      "Epoch 21/200\n",
      "4/4 [==============================] - 0s - loss: 0.7380     \n",
      "Epoch 22/200\n",
      "4/4 [==============================] - 0s - loss: 0.7368     \n",
      "Epoch 23/200\n",
      "4/4 [==============================] - 0s - loss: 0.7371     \n",
      "Epoch 24/200\n",
      "4/4 [==============================] - 0s - loss: 0.7363     \n",
      "Epoch 25/200\n",
      "4/4 [==============================] - 0s - loss: 0.7356     \n",
      "Epoch 26/200\n",
      "4/4 [==============================] - 0s - loss: 0.7348     \n",
      "Epoch 27/200\n",
      "4/4 [==============================] - 0s - loss: 0.7344     \n",
      "Epoch 28/200\n",
      "4/4 [==============================] - 0s - loss: 0.7338     \n",
      "Epoch 29/200\n",
      "4/4 [==============================] - 0s - loss: 0.7328     \n",
      "Epoch 30/200\n",
      "4/4 [==============================] - 0s - loss: 0.7326     \n",
      "Epoch 31/200\n",
      "4/4 [==============================] - 0s - loss: 0.7319     \n",
      "Epoch 32/200\n",
      "4/4 [==============================] - 0s - loss: 0.7317     \n",
      "Epoch 33/200\n",
      "4/4 [==============================] - 0s - loss: 0.7304     \n",
      "Epoch 34/200\n",
      "4/4 [==============================] - 0s - loss: 0.7306     \n",
      "Epoch 35/200\n",
      "4/4 [==============================] - 0s - loss: 0.7304     \n",
      "Epoch 36/200\n",
      "4/4 [==============================] - 0s - loss: 0.7293     \n",
      "Epoch 37/200\n",
      "4/4 [==============================] - 0s - loss: 0.7295     \n",
      "Epoch 38/200\n",
      "4/4 [==============================] - 0s - loss: 0.7281     \n",
      "Epoch 39/200\n",
      "4/4 [==============================] - 0s - loss: 0.7280     \n",
      "Epoch 40/200\n",
      "4/4 [==============================] - 0s - loss: 0.7282     \n",
      "Epoch 41/200\n",
      "4/4 [==============================] - 0s - loss: 0.7276     \n",
      "Epoch 42/200\n",
      "4/4 [==============================] - 0s - loss: 0.7277     \n",
      "Epoch 43/200\n",
      "4/4 [==============================] - 0s - loss: 0.7274     \n",
      "Epoch 44/200\n",
      "4/4 [==============================] - 0s - loss: 0.7270     \n",
      "Epoch 45/200\n",
      "4/4 [==============================] - 0s - loss: 0.7267     \n",
      "Epoch 46/200\n",
      "4/4 [==============================] - 0s - loss: 0.7262     \n",
      "Epoch 47/200\n",
      "4/4 [==============================] - 0s - loss: 0.7251     \n",
      "Epoch 48/200\n",
      "4/4 [==============================] - 0s - loss: 0.7249     \n",
      "Epoch 49/200\n",
      "4/4 [==============================] - 0s - loss: 0.7247     \n",
      "Epoch 50/200\n",
      "4/4 [==============================] - 0s - loss: 0.7244     \n",
      "Epoch 51/200\n",
      "4/4 [==============================] - 0s - loss: 0.7246     \n",
      "Epoch 52/200\n",
      "4/4 [==============================] - 0s - loss: 0.7250     \n",
      "Epoch 53/200\n",
      "4/4 [==============================] - 0s - loss: 0.7246     \n",
      "Epoch 54/200\n",
      "4/4 [==============================] - 0s - loss: 0.7242     \n",
      "Epoch 55/200\n",
      "4/4 [==============================] - 0s - loss: 0.7241     \n",
      "Epoch 56/200\n",
      "4/4 [==============================] - 0s - loss: 0.7242     \n",
      "Epoch 57/200\n",
      "4/4 [==============================] - 0s - loss: 0.7233     \n",
      "Epoch 58/200\n",
      "4/4 [==============================] - 0s - loss: 0.7237     \n",
      "Epoch 59/200\n",
      "4/4 [==============================] - 0s - loss: 0.7235     \n",
      "Epoch 60/200\n",
      "4/4 [==============================] - 0s - loss: 0.7228     \n",
      "Epoch 61/200\n",
      "4/4 [==============================] - 0s - loss: 0.7232     \n",
      "Epoch 62/200\n",
      "4/4 [==============================] - 0s - loss: 0.7231     \n",
      "Epoch 63/200\n",
      "4/4 [==============================] - ETA: 0s - loss: 0.602 - 0s - loss: 0.7229     \n",
      "Epoch 64/200\n",
      "4/4 [==============================] - 0s - loss: 0.7224     \n",
      "Epoch 65/200\n",
      "4/4 [==============================] - 0s - loss: 0.7225     \n",
      "Epoch 66/200\n",
      "4/4 [==============================] - 0s - loss: 0.7215     \n",
      "Epoch 67/200\n",
      "4/4 [==============================] - 0s - loss: 0.7224     \n",
      "Epoch 68/200\n",
      "4/4 [==============================] - 0s - loss: 0.7219     \n",
      "Epoch 69/200\n",
      "4/4 [==============================] - 0s - loss: 0.7218     \n",
      "Epoch 70/200\n",
      "4/4 [==============================] - 0s - loss: 0.7221     \n",
      "Epoch 71/200\n",
      "4/4 [==============================] - 0s - loss: 0.7220     \n",
      "Epoch 72/200\n",
      "4/4 [==============================] - 0s - loss: 0.7219     \n",
      "Epoch 73/200\n",
      "4/4 [==============================] - 0s - loss: 0.7211     \n",
      "Epoch 74/200\n",
      "4/4 [==============================] - 0s - loss: 0.7210     \n",
      "Epoch 75/200\n",
      "4/4 [==============================] - 0s - loss: 0.7213     \n",
      "Epoch 76/200\n",
      "4/4 [==============================] - 0s - loss: 0.7216     \n",
      "Epoch 77/200\n",
      "4/4 [==============================] - 0s - loss: 0.7205     \n",
      "Epoch 78/200\n",
      "4/4 [==============================] - 0s - loss: 0.7213     \n",
      "Epoch 79/200\n",
      "4/4 [==============================] - 0s - loss: 0.7214     \n",
      "Epoch 80/200\n",
      "4/4 [==============================] - 0s - loss: 0.7213     \n",
      "Epoch 81/200\n",
      "4/4 [==============================] - 0s - loss: 0.7205     \n",
      "Epoch 82/200\n",
      "4/4 [==============================] - 0s - loss: 0.7204     \n",
      "Epoch 83/200\n",
      "4/4 [==============================] - 0s - loss: 0.7210     \n",
      "Epoch 84/200\n",
      "4/4 [==============================] - 0s - loss: 0.7206     \n",
      "Epoch 85/200\n",
      "4/4 [==============================] - 0s - loss: 0.7209     \n",
      "Epoch 86/200\n",
      "4/4 [==============================] - 0s - loss: 0.7208     \n",
      "Epoch 87/200\n",
      "4/4 [==============================] - 0s - loss: 0.7206     \n",
      "Epoch 88/200\n",
      "4/4 [==============================] - 0s - loss: 0.7207     \n",
      "Epoch 89/200\n",
      "4/4 [==============================] - 0s - loss: 0.7196     \n",
      "Epoch 90/200\n",
      "4/4 [==============================] - 0s - loss: 0.7206     \n",
      "Epoch 91/200\n",
      "4/4 [==============================] - 0s - loss: 0.7198     \n",
      "Epoch 92/200\n",
      "4/4 [==============================] - 0s - loss: 0.7202     \n",
      "Epoch 93/200\n",
      "4/4 [==============================] - 0s - loss: 0.7203     \n",
      "Epoch 94/200\n",
      "4/4 [==============================] - 0s - loss: 0.7197     \n",
      "Epoch 95/200\n",
      "4/4 [==============================] - 0s - loss: 0.7200     \n",
      "Epoch 96/200\n",
      "4/4 [==============================] - 0s - loss: 0.7196     \n",
      "Epoch 97/200\n",
      "4/4 [==============================] - 0s - loss: 0.7200     \n",
      "Epoch 98/200\n",
      "4/4 [==============================] - 0s - loss: 0.7203     \n",
      "Epoch 99/200\n",
      "4/4 [==============================] - 0s - loss: 0.7203     \n",
      "Epoch 100/200\n",
      "4/4 [==============================] - 0s - loss: 0.7195     \n",
      "Epoch 101/200\n",
      "4/4 [==============================] - 0s - loss: 0.7201     \n",
      "Epoch 102/200\n",
      "4/4 [==============================] - 0s - loss: 0.7194     \n",
      "Epoch 103/200\n",
      "4/4 [==============================] - 0s - loss: 0.7190     \n",
      "Epoch 104/200\n",
      "4/4 [==============================] - 0s - loss: 0.7200     \n",
      "Epoch 105/200\n",
      "4/4 [==============================] - 0s - loss: 0.7199     \n",
      "Epoch 106/200\n",
      "4/4 [==============================] - 0s - loss: 0.7193     \n",
      "Epoch 107/200\n",
      "4/4 [==============================] - 0s - loss: 0.7199     \n",
      "Epoch 108/200\n",
      "4/4 [==============================] - 0s - loss: 0.7192     \n",
      "Epoch 109/200\n"
     ]
    },
    {
     "name": "stdout",
     "output_type": "stream",
     "text": [
      "4/4 [==============================] - 0s - loss: 0.7197     \n",
      "Epoch 110/200\n",
      "4/4 [==============================] - 0s - loss: 0.7194     \n",
      "Epoch 111/200\n",
      "4/4 [==============================] - 0s - loss: 0.7191     \n",
      "Epoch 112/200\n",
      "4/4 [==============================] - 0s - loss: 0.7198     \n",
      "Epoch 113/200\n",
      "4/4 [==============================] - 0s - loss: 0.7196     \n",
      "Epoch 114/200\n",
      "4/4 [==============================] - 0s - loss: 0.7190     \n",
      "Epoch 115/200\n",
      "4/4 [==============================] - 0s - loss: 0.7190     \n",
      "Epoch 116/200\n",
      "4/4 [==============================] - 0s - loss: 0.7197     \n",
      "Epoch 117/200\n",
      "4/4 [==============================] - 0s - loss: 0.7190     \n",
      "Epoch 118/200\n",
      "4/4 [==============================] - 0s - loss: 0.7196     \n",
      "Epoch 119/200\n",
      "4/4 [==============================] - 0s - loss: 0.7194     \n",
      "Epoch 120/200\n",
      "4/4 [==============================] - 0s - loss: 0.7189     \n",
      "Epoch 121/200\n",
      "4/4 [==============================] - 0s - loss: 0.7196     \n",
      "Epoch 122/200\n",
      "4/4 [==============================] - 0s - loss: 0.7192     \n",
      "Epoch 123/200\n",
      "4/4 [==============================] - 0s - loss: 0.7188     \n",
      "Epoch 124/200\n",
      "4/4 [==============================] - ETA: 0s - loss: 0.713 - 0s - loss: 0.7194     \n",
      "Epoch 125/200\n",
      "4/4 [==============================] - 0s - loss: 0.7195     \n",
      "Epoch 126/200\n",
      "4/4 [==============================] - 0s - loss: 0.7188     \n",
      "Epoch 127/200\n",
      "4/4 [==============================] - 0s - loss: 0.7195     \n",
      "Epoch 128/200\n",
      "4/4 [==============================] - 0s - loss: 0.7191     \n",
      "Epoch 129/200\n",
      "4/4 [==============================] - 0s - loss: 0.7191     \n",
      "Epoch 130/200\n",
      "4/4 [==============================] - 0s - loss: 0.7193     \n",
      "Epoch 131/200\n",
      "4/4 [==============================] - 0s - loss: 0.7185     \n",
      "Epoch 132/200\n",
      "4/4 [==============================] - 0s - loss: 0.7192     \n",
      "Epoch 133/200\n",
      "4/4 [==============================] - 0s - loss: 0.7188     \n",
      "Epoch 134/200\n",
      "4/4 [==============================] - 0s - loss: 0.7193     \n",
      "Epoch 135/200\n",
      "4/4 [==============================] - 0s - loss: 0.7187     \n",
      "Epoch 136/200\n",
      "4/4 [==============================] - 0s - loss: 0.7187     \n",
      "Epoch 137/200\n",
      "4/4 [==============================] - 0s - loss: 0.7187     \n",
      "Epoch 138/200\n",
      "4/4 [==============================] - 0s - loss: 0.7193     \n",
      "Epoch 139/200\n",
      "4/4 [==============================] - 0s - loss: 0.7187     \n",
      "Epoch 140/200\n",
      "4/4 [==============================] - 0s - loss: 0.7194     \n",
      "Epoch 141/200\n",
      "4/4 [==============================] - 0s - loss: 0.7194     \n",
      "Epoch 142/200\n",
      "4/4 [==============================] - 0s - loss: 0.7190     \n",
      "Epoch 143/200\n",
      "4/4 [==============================] - 0s - loss: 0.7190     \n",
      "Epoch 144/200\n",
      "4/4 [==============================] - 0s - loss: 0.7187     \n",
      "Epoch 145/200\n",
      "4/4 [==============================] - 0s - loss: 0.7190     \n",
      "Epoch 146/200\n",
      "4/4 [==============================] - 0s - loss: 0.7191     \n",
      "Epoch 147/200\n",
      "4/4 [==============================] - 0s - loss: 0.7191     \n",
      "Epoch 148/200\n",
      "4/4 [==============================] - 0s - loss: 0.7193     \n",
      "Epoch 149/200\n",
      "4/4 [==============================] - ETA: 0s - loss: 0.677 - 0s - loss: 0.7183     \n",
      "Epoch 150/200\n",
      "4/4 [==============================] - 0s - loss: 0.7191     \n",
      "Epoch 151/200\n",
      "4/4 [==============================] - 0s - loss: 0.7186     \n",
      "Epoch 152/200\n",
      "4/4 [==============================] - 0s - loss: 0.7193     \n",
      "Epoch 153/200\n",
      "4/4 [==============================] - 0s - loss: 0.7186     \n",
      "Epoch 154/200\n",
      "4/4 [==============================] - 0s - loss: 0.7193     \n",
      "Epoch 155/200\n",
      "4/4 [==============================] - 0s - loss: 0.7193     \n",
      "Epoch 156/200\n",
      "4/4 [==============================] - 0s - loss: 0.7189     \n",
      "Epoch 157/200\n",
      "4/4 [==============================] - 0s - loss: 0.7191     \n",
      "Epoch 158/200\n",
      "4/4 [==============================] - 0s - loss: 0.7191     \n",
      "Epoch 159/200\n",
      "4/4 [==============================] - 0s - loss: 0.7185     \n",
      "Epoch 160/200\n",
      "4/4 [==============================] - 0s - loss: 0.7192     \n",
      "Epoch 161/200\n",
      "4/4 [==============================] - 0s - loss: 0.7185     \n",
      "Epoch 162/200\n",
      "4/4 [==============================] - 0s - loss: 0.7191     \n",
      "Epoch 163/200\n",
      "4/4 [==============================] - 0s - loss: 0.7191     \n",
      "Epoch 164/200\n",
      "4/4 [==============================] - 0s - loss: 0.7193     \n",
      "Epoch 165/200\n",
      "4/4 [==============================] - 0s - loss: 0.7191     \n",
      "Epoch 166/200\n",
      "4/4 [==============================] - 0s - loss: 0.7189     \n",
      "Epoch 167/200\n",
      "4/4 [==============================] - 0s - loss: 0.7190     \n",
      "Epoch 168/200\n",
      "4/4 [==============================] - 0s - loss: 0.7192     \n",
      "Epoch 169/200\n",
      "4/4 [==============================] - 0s - loss: 0.7185     \n",
      "Epoch 170/200\n",
      "4/4 [==============================] - 0s - loss: 0.7185     \n",
      "Epoch 171/200\n",
      "4/4 [==============================] - 0s - loss: 0.7185     \n",
      "Epoch 172/200\n",
      "4/4 [==============================] - 0s - loss: 0.7182     \n",
      "Epoch 173/200\n",
      "4/4 [==============================] - 0s - loss: 0.7192     \n",
      "Epoch 174/200\n",
      "4/4 [==============================] - 0s - loss: 0.7192     \n",
      "Epoch 175/200\n",
      "4/4 [==============================] - 0s - loss: 0.7190     \n",
      "Epoch 176/200\n",
      "4/4 [==============================] - 0s - loss: 0.7185     \n",
      "Epoch 177/200\n",
      "4/4 [==============================] - 0s - loss: 0.7188     \n",
      "Epoch 178/200\n",
      "4/4 [==============================] - 0s - loss: 0.7190     \n",
      "Epoch 179/200\n",
      "4/4 [==============================] - 0s - loss: 0.7188     \n",
      "Epoch 180/200\n",
      "4/4 [==============================] - 0s - loss: 0.7190     \n",
      "Epoch 181/200\n",
      "4/4 [==============================] - 0s - loss: 0.7188     \n",
      "Epoch 182/200\n",
      "4/4 [==============================] - 0s - loss: 0.7185     \n",
      "Epoch 183/200\n",
      "4/4 [==============================] - 0s - loss: 0.7185     \n",
      "Epoch 184/200\n",
      "4/4 [==============================] - 0s - loss: 0.7188     \n",
      "Epoch 185/200\n",
      "4/4 [==============================] - 0s - loss: 0.7190     \n",
      "Epoch 186/200\n",
      "4/4 [==============================] - 0s - loss: 0.7188     \n",
      "Epoch 187/200\n",
      "4/4 [==============================] - 0s - loss: 0.7185     \n",
      "Epoch 188/200\n",
      "4/4 [==============================] - 0s - loss: 0.7191     \n",
      "Epoch 189/200\n",
      "4/4 [==============================] - 0s - loss: 0.7191     \n",
      "Epoch 190/200\n",
      "4/4 [==============================] - 0s - loss: 0.7185     \n",
      "Epoch 191/200\n",
      "4/4 [==============================] - 0s - loss: 0.7192     \n",
      "Epoch 192/200\n",
      "4/4 [==============================] - 0s - loss: 0.7191     \n",
      "Epoch 193/200\n",
      "4/4 [==============================] - 0s - loss: 0.7191     \n",
      "Epoch 194/200\n",
      "4/4 [==============================] - 0s - loss: 0.7188     \n",
      "Epoch 195/200\n",
      "4/4 [==============================] - 0s - loss: 0.7184     \n",
      "Epoch 196/200\n",
      "4/4 [==============================] - 0s - loss: 0.7191     \n",
      "Epoch 197/200\n",
      "4/4 [==============================] - 0s - loss: 0.7181     \n",
      "Epoch 198/200\n",
      "4/4 [==============================] - 0s - loss: 0.7191     \n",
      "Epoch 199/200\n",
      "4/4 [==============================] - 0s - loss: 0.7184     \n",
      "Epoch 200/200\n",
      "4/4 [==============================] - 0s - loss: 0.7190     \n",
      "1/4 [======>.......................] - ETA: 0s[[ 0.50147235]\n",
      " [ 0.50298554]\n",
      " [ 0.50041449]\n",
      " [ 0.50192779]]\n"
     ]
    }
   ],
   "source": [
    "np.random.seed(0)\n",
    "\n",
    "X = np.array([[0,0],[0,1],[1,0],[1,1]])\n",
    "Y = np.array([[0],[1],[1],[0]])\n",
    "\n",
    "model = Sequential([\n",
    "    Dense(input_dim=2, output_dim=1),\n",
    "    Activation('sigmoid')\n",
    "])\n",
    "model.compile(loss='binary_crossentropy', optimizer=SGD(lr=0.1))\n",
    "model.fit(X,Y, epochs=200, batch_size=1)\n",
    "\n",
    "prob = model.predict_proba(X, batch_size=1)\n",
    "print(prob)"
   ]
  },
  {
   "cell_type": "markdown",
   "metadata": {},
   "source": [
    "# 3.6.3\n",
    "## TensorFlow"
   ]
  },
  {
   "cell_type": "code",
   "execution_count": 46,
   "metadata": {
    "collapsed": true
   },
   "outputs": [],
   "source": [
    "X = np.array([[0,0],[0,1],[1,0],[1,1]])\n",
    "Y = np.array([[0],[1],[1],[0]])"
   ]
  },
  {
   "cell_type": "code",
   "execution_count": 47,
   "metadata": {
    "collapsed": true
   },
   "outputs": [],
   "source": [
    "x = tf.placeholder(tf.float32, shape=[None, 2])\n",
    "t = tf.placeholder(tf.float32, shape=[None, 1])"
   ]
  },
  {
   "cell_type": "code",
   "execution_count": 48,
   "metadata": {
    "collapsed": true
   },
   "outputs": [],
   "source": [
    "W = tf.Variable(tf.truncated_normal([2,2]))\n",
    "b = tf.Variable(tf.zeros([2]))\n",
    "h = tf.nn.sigmoid(tf.matmul(x, W) + b)"
   ]
  },
  {
   "cell_type": "code",
   "execution_count": 49,
   "metadata": {
    "collapsed": true
   },
   "outputs": [],
   "source": [
    "V = tf.Variable(tf.truncated_normal([2, 1]))\n",
    "c = tf.Variable(tf.zeros([1]))\n",
    "y = tf.nn.sigmoid(tf.matmul(h,V) + c)"
   ]
  },
  {
   "cell_type": "code",
   "execution_count": 50,
   "metadata": {},
   "outputs": [],
   "source": [
    "cross_entropy = - tf.reduce_sum(t * tf.log(y) + (1-t) * tf.log(1-y))\n",
    "train_step = tf.train.GradientDescentOptimizer(0.1).minimize(cross_entropy)\n",
    "correct_prediction = tf.equal(tf.to_float(tf.greater(y, 0.5)), t)"
   ]
  },
  {
   "cell_type": "code",
   "execution_count": 54,
   "metadata": {},
   "outputs": [
    {
     "name": "stdout",
     "output_type": "stream",
     "text": [
      "epoch: 0\n",
      "epoch: 1000\n",
      "epoch: 2000\n",
      "epoch: 3000\n",
      "epoch: 4000\n",
      "epoch: 5000\n",
      "epoch: 6000\n",
      "epoch: 7000\n",
      "epoch: 8000\n",
      "epoch: 9000\n"
     ]
    }
   ],
   "source": [
    "init = tf.global_variables_initializer()\n",
    "sess = tf.Session()\n",
    "sess.run(init)\n",
    "\n",
    "for epoch in range(10000):\n",
    "    sess.run(train_step, feed_dict={x: X, t: Y})\n",
    "    if epoch % 1000 == 0:\n",
    "        print('epoch:',epoch)"
   ]
  },
  {
   "cell_type": "code",
   "execution_count": 55,
   "metadata": {},
   "outputs": [
    {
     "name": "stdout",
     "output_type": "stream",
     "text": [
      "classified:\n",
      "[[ True]\n",
      " [ True]\n",
      " [ True]\n",
      " [ True]]\n",
      "\n",
      "output probability:\n",
      "[[ 0.002513  ]\n",
      " [ 0.99657035]\n",
      " [ 0.99767417]\n",
      " [ 0.00216234]]\n"
     ]
    }
   ],
   "source": [
    "classified = correct_prediction.eval(session=sess, feed_dict={x:X, t:Y})\n",
    "prob = y.eval(session=sess, feed_dict={x:X})\n",
    "\n",
    "print('classified:')\n",
    "print(classified)\n",
    "print()\n",
    "print('output probability:')\n",
    "print(prob)"
   ]
  },
  {
   "cell_type": "markdown",
   "metadata": {},
   "source": [
    "# 3.7"
   ]
  },
  {
   "cell_type": "code",
   "execution_count": 62,
   "metadata": {},
   "outputs": [
    {
     "data": {
      "text/plain": [
       "array([0, 1, 1, 1, 1, 0, 1, 1, 1, 0, 0, 1, 1, 1, 0, 1, 0, 1, 1, 1, 0, 1, 1,\n",
       "       1, 0, 0, 1, 0, 1, 1, 0, 0, 0, 0, 0, 1, 0, 1, 0, 1, 1, 0, 1, 1, 1, 0,\n",
       "       1, 0, 1, 1, 0, 0, 0, 1, 1, 0, 1, 1, 0, 0, 1, 0, 0, 1, 0, 1, 0, 0, 0,\n",
       "       0, 0, 0, 0, 0, 0, 1, 0, 1, 0, 0, 1, 0, 0, 1, 0, 0, 0, 1, 1, 0, 1, 1,\n",
       "       1, 1, 1, 0, 0, 0, 1, 0, 0, 1, 0, 1, 0, 0, 0, 0, 1, 0, 0, 1, 0, 1, 1,\n",
       "       0, 1, 0, 0, 1, 0, 1, 1, 0, 0, 0, 1, 0, 1, 0, 0, 0, 0, 0, 0, 1, 0, 0,\n",
       "       1, 1, 1, 0, 1, 1, 1, 0, 0, 1, 0, 0, 0, 1, 0, 0, 0, 1, 1, 0, 0, 0, 0,\n",
       "       1, 1, 1, 0, 0, 1, 1, 1, 0, 1, 0, 0, 1, 1, 1, 0, 1, 1, 1, 1, 1, 0, 1,\n",
       "       1, 0, 1, 0, 0, 1, 0, 1, 0, 0, 1, 0, 1, 1, 1, 1, 1, 1, 0, 0, 1, 0, 0,\n",
       "       0, 1, 1, 0, 1, 1, 1, 0, 0, 1, 0, 1, 1, 0, 1, 0, 0, 1, 1, 0, 0, 1, 1,\n",
       "       1, 1, 0, 1, 1, 1, 0, 1, 1, 0, 0, 1, 1, 1, 1, 1, 0, 1, 1, 0, 0, 1, 0,\n",
       "       0, 0, 0, 1, 1, 0, 0, 1, 0, 1, 0, 0, 0, 1, 1, 0, 1, 0, 0, 0, 1, 0, 1,\n",
       "       1, 0, 0, 0, 0, 1, 1, 1, 0, 0, 1, 0, 0, 1, 1, 0, 1, 0, 1, 1, 1, 1, 1,\n",
       "       0])"
      ]
     },
     "execution_count": 62,
     "metadata": {},
     "output_type": "execute_result"
    }
   ],
   "source": [
    "from sklearn import datasets\n",
    "\n",
    "N = 300\n",
    "X, y =datasets.make_moons(N, noise=0.3)\n",
    "y"
   ]
  },
  {
   "cell_type": "code",
   "execution_count": 66,
   "metadata": {},
   "outputs": [
    {
     "data": {
      "text/plain": [
       "[<matplotlib.lines.Line2D at 0x1211635f8>]"
      ]
     },
     "execution_count": 66,
     "metadata": {},
     "output_type": "execute_result"
    },
    {
     "data": {
      "image/png": "[encoded data removed]",
      "text/plain": [
       "<matplotlib.figure.Figure at 0x121163978>"
      ]
     },
     "metadata": {},
     "output_type": "display_data"
    }
   ],
   "source": [
    "X0x = np.array([a[0] for a,b in zip(X,y) if b==0])\n",
    "X0y = np.array([a[1] for a,b in zip(X,y) if b==0])\n",
    "X1x = np.array([a[0] for a,b in zip(X,y) if b==1])\n",
    "X1y = np.array([a[1] for a,b in zip(X,y) if b==1])\n",
    "plt.plot(X0x, X0y, 'x')\n",
    "plt.plot(X1x, X1y, 'o')"
   ]
  },
  {
   "cell_type": "code",
   "execution_count": 68,
   "metadata": {},
   "outputs": [],
   "source": [
    "from sklearn.model_selection import train_test_split\n",
    "\n",
    "Y = y.reshape(N, 1)\n",
    "X_train, X_test, Y_train, Y_test = train_test_split(X, Y, train_size=0.8)"
   ]
  },
  {
   "cell_type": "code",
   "execution_count": 79,
   "metadata": {
    "collapsed": true
   },
   "outputs": [],
   "source": [
    "num_hidden = 3"
   ]
  },
  {
   "cell_type": "code",
   "execution_count": 80,
   "metadata": {
    "collapsed": true
   },
   "outputs": [],
   "source": [
    "x = tf.placeholder(tf.float32, shape=[None, 2])\n",
    "t = tf.placeholder(tf.float32, shape=[None, 1])"
   ]
  },
  {
   "cell_type": "code",
   "execution_count": 81,
   "metadata": {
    "collapsed": true
   },
   "outputs": [],
   "source": [
    "W = tf.Variable(tf.truncated_normal([2, num_hidden]))\n",
    "b = tf.Variable(tf.zeros([num_hidden]))\n",
    "h = tf.nn.sigmoid(tf.matmul(x, W) + b)"
   ]
  },
  {
   "cell_type": "code",
   "execution_count": 82,
   "metadata": {
    "collapsed": true
   },
   "outputs": [],
   "source": [
    "V = tf.Variable(tf.truncated_normal([num_hidden, 1]))\n",
    "c = tf.Variable(tf.zeros([1]))\n",
    "y = tf.nn.sigmoid(tf.matmul(h, V) + c)"
   ]
  },
  {
   "cell_type": "code",
   "execution_count": 83,
   "metadata": {
    "collapsed": true
   },
   "outputs": [],
   "source": [
    "cross_entropy = -tf.reduce_sum(t * tf.log(y) + (1 - t)*tf.log(1-y))\n",
    "train_step = tf.train.GradientDescentOptimizer(0.05).minimize(cross_entropy)\n",
    "correct_prediction = tf.equal(tf.to_float(tf.greater(y, 0.5)), t)"
   ]
  },
  {
   "cell_type": "code",
   "execution_count": 84,
   "metadata": {
    "collapsed": true
   },
   "outputs": [],
   "source": [
    "accuracy = tf.reduce_mean(tf.cast(correct_prediction, tf.float32))"
   ]
  },
  {
   "cell_type": "code",
   "execution_count": 85,
   "metadata": {
    "collapsed": true
   },
   "outputs": [],
   "source": [
    "batch_size = 20\n",
    "n_batches = N // batch_size"
   ]
  },
  {
   "cell_type": "code",
   "execution_count": 86,
   "metadata": {
    "collapsed": true
   },
   "outputs": [],
   "source": [
    "init = tf.global_variables_initializer()\n",
    "sess = tf.Session()\n",
    "sess.run(init)"
   ]
  },
  {
   "cell_type": "code",
   "execution_count": 87,
   "metadata": {
    "collapsed": true
   },
   "outputs": [],
   "source": [
    "for epoch in range(500):\n",
    "    X_, Y_ = shuffle(X_train, Y_train)\n",
    "    \n",
    "    for i in range(n_batches):\n",
    "        start = i * batch_size\n",
    "        end = start + batch_size\n",
    "        \n",
    "        sess.run(train_step, feed_dict={x: X_[start:end], t:Y_[start:end]})"
   ]
  },
  {
   "cell_type": "code",
   "execution_count": 88,
   "metadata": {},
   "outputs": [
    {
     "name": "stdout",
     "output_type": "stream",
     "text": [
      "accuracy: 0.916667\n"
     ]
    }
   ],
   "source": [
    "accuracy_rate = accuracy.eval(session=sess, feed_dict={x: X_test, t:Y_test})\n",
    "print('accuracy:', accuracy_rate)"
   ]
  },
  {
   "cell_type": "code",
   "execution_count": null,
   "metadata": {
    "collapsed": true
   },
   "outputs": [],
   "source": []
  }
 ],
 "metadata": {
  "kernelspec": {
   "display_name": "py3_personal",
   "language": "python",
   "name": "py3_personal"
  },
  "language_info": {
   "codemirror_mode": {
    "name": "ipython",
    "version": 3
   },
   "file_extension": ".py",
   "mimetype": "text/x-python",
   "name": "python",
   "nbconvert_exporter": "python",
   "pygments_lexer": "ipython3",
   "version": "3.5.2"
  }
 },
 "nbformat": 4,
 "nbformat_minor": 1
}
